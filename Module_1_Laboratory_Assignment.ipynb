{
  "cells": [
    {
      "cell_type": "markdown",
      "metadata": {
        "id": "G0BcK0H_G1Iu"
      },
      "source": [
        "# **AP155 Lab Assignment** \n",
        "## Module 1: Integrals and Derivatives\n",
        "\n",
        "_Instructions_: Answer each problem as completely as you can. Discuss **all** your answers as clearly and concisely as possible. \n",
        "\n",
        "_Scoring Criteria_: 50% - *correctness of code*; 50% - *discussion of the code and results*. Maximum score is **100 points** (Problems 1 to 5 are worth 20, 20, 10, 30, and 20 points, respectively).\n",
        "\n",
        "_Due Date_: **5PM of November 3 (Thu)**\n",
        "\n"
      ]
    },
    {
      "cell_type": "markdown",
      "metadata": {
        "id": "PeHZ9kP8JaVR"
      },
      "source": [
        "### Student Information \n",
        "\n",
        "_Full Name (Last Name, First Name)_: Baldres, Jonabel Eleanor\\\n",
        "_Student No._: 2020-07278\\\n",
        "_Section_: THU-HX-3"
      ]
    },
    {
      "cell_type": "markdown",
      "metadata": {
        "id": "Hc183co-J4eI"
      },
      "source": [
        "### Submission Information\n",
        "\n",
        "_Date and Time Submitted (most recent upload)_: \n",
        "\n",
        "**HONOR PLEDGE** I affirm that I have upheld the highest principles of honesty and integrity in my academic work and that this lab assignment is my own work.\n",
        "\n",
        "**Sign here with your full name:** "
      ]
    },
    {
      "cell_type": "markdown",
      "metadata": {
        "id": "X1UGsRpW-eQs"
      },
      "source": [
        "### Grading Information (c/o Lab Instructor)\n",
        "\n",
        "TOTAL SCORE: **XX**/100\n",
        "\n",
        "Score breakdown:\n",
        "* Problem 1 - XX/20\n",
        "* Problem 2 - XX/20\n",
        "* Problem 3 - XX/10\n",
        "* Problem 4 - XX/30\n",
        "* Problem 5 - XX/20\n",
        "\n",
        "_Date and Time Scored (MM/DD/YYYY HH:MM AM/PM):_ "
      ]
    },
    {
      "cell_type": "markdown",
      "metadata": {
        "id": "LxWuqiCFMsEh"
      },
      "source": [
        "### PROBLEM 1 (20 pts.) \n",
        "**Integration using the trapezoidal rule and Simpson's rule**\n",
        "\n",
        "Calculate the integral of the function $ 2x^4 + 3x^2 + 4x + 5$ from $x=0$ to $x=5$.\n",
        "\n",
        "1. Do the numerical calculation using the trapezoidal rule with 10, 100, and 1,000 slices. Describe each step of the calculation clearly and concisely. *(8 pts.; 4 pts. for the code & 4 pts. for the discussion text)*\n",
        "\n",
        "2. What are the percentage errors of your answers in (1)? *(2 pts.)*\n",
        "\n",
        "3. Repeat the calculation using Simpson's rule with 10, 100, and 1,000 slices. Describe each step of the calculation clearly and concisely. *(8 pts.;  4 pts. for the code & 4 pts. for the discussion text)*\n",
        "\n",
        "4. What are the percentage errors of your answers in (3)? How do they compare with the results from (1) for the same number of slices? *(2 pts.)*"
      ]
    },
    {
      "cell_type": "code",
      "execution_count": 1,
      "metadata": {
        "id": "XBzQNPueNOle"
      },
      "outputs": [],
      "source": [
        "import numpy as np \n",
        "import matplotlib.pyplot as plt\n",
        "import math\n",
        "from math import sin, sqrt\n",
        "# hello lovely\n",
        "#hello ulit lovely"
      ]
    },
    {
      "cell_type": "code",
      "execution_count": 2,
      "metadata": {
        "id": "hMqWOsbIMoUh"
      },
      "outputs": [],
      "source": [
        "def f(x):\n",
        "  return 2*x**4 + 3*x**2 + 4*x + 5"
      ]
    },
    {
      "cell_type": "code",
      "execution_count": 3,
      "metadata": {
        "id": "8-MKLErKLM7U"
      },
      "outputs": [],
      "source": [
        "def int_f(x):\n",
        "  return 2*x**5/5 + x**3 + 2*x**2 + 5*x"
      ]
    },
    {
      "cell_type": "code",
      "execution_count": 4,
      "metadata": {
        "colab": {
          "base_uri": "https://localhost:8080/"
        },
        "id": "j0KJp7PgMtVq",
        "outputId": "da2297dc-2102-41e1-c44b-b59fdc11989e"
      },
      "outputs": [
        {
          "name": "stdout",
          "output_type": "stream",
          "text": [
            "The actual value of the integral is 1450.0\n"
          ]
        }
      ],
      "source": [
        "print(\"The actual value of the integral is \" + str(int_f(5)))"
      ]
    },
    {
      "cell_type": "markdown",
      "metadata": {
        "id": "qhFdBJ0GTvvu"
      },
      "source": [
        "*Trapezoidal Rule*"
      ]
    },
    {
      "cell_type": "code",
      "execution_count": 5,
      "metadata": {
        "id": "s7q4t6WkM7as"
      },
      "outputs": [],
      "source": [
        "a=0\n",
        "b=5\n",
        "\n",
        "def trap(N):\n",
        "  h= (b-a)/N\n",
        "  s= 0.5*f(a) + 0.5*f(b)\n",
        "\n",
        "  for k in range(1,N):\n",
        "    s += f(a+k*h)\n",
        "\n",
        "  return h*s"
      ]
    },
    {
      "cell_type": "code",
      "execution_count": 6,
      "metadata": {
        "colab": {
          "base_uri": "https://localhost:8080/"
        },
        "id": "AmmvqoSSQMhH",
        "outputId": "b1eab0f7-7d6f-47fc-acc6-6e9746c8d670"
      },
      "outputs": [
        {
          "name": "stdout",
          "output_type": "stream",
          "text": [
            "1471.4375\n",
            "1450.2145812500003\n",
            "1450.0021458331234\n"
          ]
        }
      ],
      "source": [
        "for i in [10,100,1000]:\n",
        "  print(trap(i))"
      ]
    },
    {
      "cell_type": "code",
      "execution_count": 7,
      "metadata": {
        "id": "YLBZz2ZiRwde"
      },
      "outputs": [],
      "source": [
        "def perr(N):\n",
        "  return (trap(N) - int_f(5)) / int_f(5) * 100"
      ]
    },
    {
      "cell_type": "code",
      "execution_count": 8,
      "metadata": {
        "colab": {
          "base_uri": "https://localhost:8080/"
        },
        "id": "isFwjhTmSYIx",
        "outputId": "e95ab2dc-c079-461f-9b73-a0d1a9f87ba1"
      },
      "outputs": [
        {
          "name": "stdout",
          "output_type": "stream",
          "text": [
            "1.478448275862069\n",
            "0.014798706896569988\n",
            "0.00014798849127240326\n"
          ]
        }
      ],
      "source": [
        "for k in [10,100,1000]:\n",
        "  print(perr(k))"
      ]
    },
    {
      "cell_type": "markdown",
      "metadata": {
        "id": "h2PVjeVyHlSh"
      },
      "source": [
        "*Simpsons Rule*"
      ]
    },
    {
      "cell_type": "code",
      "execution_count": 9,
      "metadata": {
        "id": "9qNlRlSpSnrz"
      },
      "outputs": [],
      "source": [
        "a=0\n",
        "b=5\n",
        "\n",
        "def simp(N):\n",
        "  h= (b-a)/N\n",
        "  c = h/3\n",
        "  s= f(a) + f(b)\n",
        "\n",
        "  for k in range(2,N,2): #even\n",
        "    s+= 2* f(a+k*h)\n",
        "\n",
        "  for k in range(1,N,2): #odd\n",
        "    s+= 4* f(a+k*h) \n",
        "\n",
        "  return c*s"
      ]
    },
    {
      "cell_type": "code",
      "execution_count": 10,
      "metadata": {
        "colab": {
          "base_uri": "https://localhost:8080/"
        },
        "id": "75n-EiNcS9ZX",
        "outputId": "f5276be5-ac16-44c4-d389-8f5517d7a340"
      },
      "outputs": [
        {
          "name": "stdout",
          "output_type": "stream",
          "text": [
            "1450.0833333333333\n",
            "1450.0000083333334\n",
            "1450.0000000008336\n"
          ]
        }
      ],
      "source": [
        "for i in [10,100,1000]:\n",
        "  print(simp(i))"
      ]
    },
    {
      "cell_type": "code",
      "execution_count": 11,
      "metadata": {
        "id": "Mm1EqK_6TLhP"
      },
      "outputs": [],
      "source": [
        "def perrs(N):\n",
        "  return (simp(N) - int_f(5)) / int_f(5) * 100"
      ]
    },
    {
      "cell_type": "code",
      "execution_count": 12,
      "metadata": {
        "colab": {
          "base_uri": "https://localhost:8080/"
        },
        "id": "pLD7fd7fTWDe",
        "outputId": "68e1cac5-6b5c-4f95-cd2e-c615485ce396"
      },
      "outputs": [
        {
          "name": "stdout",
          "output_type": "stream",
          "text": [
            "0.005747126436776382\n",
            "5.747126500676226e-07\n",
            "5.748633752930267e-11\n"
          ]
        }
      ],
      "source": [
        "for k in [10,100,1000]:\n",
        "  print(perrs(k))"
      ]
    },
    {
      "cell_type": "markdown",
      "metadata": {
        "id": "kBX9EyMLOnXj"
      },
      "source": [
        "## PROBLEM 2 (20 pts.)\n",
        "\n",
        "**Integration using the adaptive trapezoidal rule method and Romberg integration**\n",
        "\n",
        "Calculate the integral $ I = \\int_0^1 \\sin^2 \\sqrt{100x} \\mbox{d}x $.\n",
        "\n",
        "1. Do the numerical calculation using the adaptive trapezoidal rule method to an approximate accuracy of $\\epsilon = 10^{-6}$. Start with one single integration slice and work up from there to two, four, eight, and so forth. Save and print out the number of slices, its estimate of the integral, and its estimate of the error on the integral, for each value of the number of slices $N$, until the target accuracy is reached. *(8 pts.; 4 pts. for the code & 4 pts. for the discussion text)*\n",
        "\n",
        "2. Repeat the calculation using the Romberg integration technique. Save and print out the same variables as in (1). *(8 pts.; 4 pts. for the code & 4 pts. for the discussion text)*\n",
        "\n",
        "3. Compare the results from both calculations by creating a plot of error estimates vs. $N$. Annotate your chart completely (include proper axis labels and legend). Describe how the trends for the two techniques compare. *(4 pts.; 2 pts. for the chart & 2 pts. for the discussion text)*"
      ]
    },
    {
      "cell_type": "code",
      "execution_count": 13,
      "metadata": {
        "colab": {
          "base_uri": "https://localhost:8080/"
        },
        "id": "uAdoEXjNyyKP",
        "outputId": "6dbf96cb-a474-4c5f-b790-c1f5f6e5fa03"
      },
      "outputs": [
        {
          "name": "stdout",
          "output_type": "stream",
          "text": [
            "The value of integral is:  0.3252319078064746 , with error:  0.05908414108660751 , and N:  2.0\n",
            "The value of integral is:  0.5122828507233319 , with error:  0.0623503143056191 , and N:  4.0\n",
            "The value of integral is:  0.4029974484782485 , with error:  0.03642846741502781 , and N:  8.0\n",
            "The value of integral is:  0.43010336929474713 , with error:  0.009035306938832885 , and N:  16.0\n",
            "The value of integral is:  0.44841466578747 , with error:  0.006103765497574298 , and N:  32.0\n",
            "The value of integral is:  0.4539129312153758 , with error:  0.0018327551426352562 , and N:  64.0\n",
            "The value of integral is:  0.45534850437280205 , with error:  0.000478524385808754 , and N:  128.0\n",
            "The value of integral is:  0.455711266453241 , with error:  0.00012092069347964991 , and N:  256.0\n",
            "The value of integral is:  0.455802199651664 , with error:  3.0311066141005167e-05 , and N:  512.0\n",
            "The value of integral is:  0.4558249481324199 , with error:  7.582826918632139e-06 , and N:  1024.0\n",
            "The value of integral is:  0.45583063620164654 , with error:  1.8960230755427077e-06 , and N:  2048.0\n",
            "The value of integral is:  0.45583205827827106 , with error:  4.740255415044044e-07 , and N:  4096.0\n"
          ]
        }
      ],
      "source": [
        "a=0\n",
        "b=1\n",
        "data = []\n",
        "def g(x):\n",
        "  return (sin(10*sqrt(x)) ** 2)\n",
        "\n",
        "def integrate(func, N):\n",
        "  h = (b-a)/N\n",
        "\n",
        "  new_part = 0\n",
        "  for i in range(1,N,2):\n",
        "    new_part += func(a+i*h)\n",
        "\n",
        "  return new_part * h\n",
        "\n",
        "def adaptive_trapezoidal(func):\n",
        "  N= 2\n",
        "  initial = 0\n",
        "  final = (b-a)/N * (func(a) + func(b))\n",
        "  error= abs(final - initial)/3\n",
        "\n",
        "  while error > 1.e-6:\n",
        "    initial = final\n",
        "    final = (0.5 * initial) + integrate(func, N)\n",
        "    error = abs(final - initial)/3\n",
        "    N*= 2\n",
        "    data.append([final, error, N/2])\n",
        "\n",
        "  return data\n",
        "\n",
        "data = adaptive_trapezoidal(g)\n",
        "for i in range(0,len(data)):\n",
        "     print(\"The value of integral is: \", data[i][0],\",\", \"with error: \", data[i][1],\",\", \"and N: \", data[i][2] )"
      ]
    },
    {
      "cell_type": "code",
      "execution_count": 14,
      "metadata": {
        "colab": {
          "base_uri": "https://localhost:8080/",
          "height": 273
        },
        "id": "CXCMdeSM5LhB",
        "outputId": "08a11c1c-0443-440b-fa60-e81d7a040dcf"
      },
      "outputs": [
        {
          "data": {
            "image/png": "[encoded data removed]",
            "text/plain": [
              "<Figure size 432x288 with 1 Axes>"
            ]
          },
          "metadata": {
            "needs_background": "light"
          },
          "output_type": "display_data"
        }
      ],
      "source": [
        "x= []\n",
        "y= []\n",
        "for i in range(0,len(data)):\n",
        "     x.append(data[i][2])\n",
        "\n",
        "for i in range(0,len(data)):\n",
        "     y.append(data[i][1])\n",
        "\n",
        "fig, ax = plt.subplots()\n",
        "\n",
        "ax.plot(x, y)\n",
        "ax.plot(x, y, 'bo')\n",
        "plt.xscale(\"log\")\n",
        "plt.yscale(\"log\")\n",
        "\n",
        "\n",
        "plt.show()"
      ]
    },
    {
      "cell_type": "code",
      "execution_count": 15,
      "metadata": {
        "id": "dByLImD83ur6"
      },
      "outputs": [],
      "source": [
        "import numpy as np\n",
        "\n",
        "def E(t):\n",
        "    return np.sin(np.sqrt(100*t))**2\n",
        "N = 2\n",
        "a = 0.0 \n",
        "b = 1.0 \n",
        "h = (b-a)/N\n",
        "error = 10**(-6)\n",
        "err = [np.inf]\n",
        "No = []\n",
        "\n",
        "def TrapI(f,N,a,b):\n",
        "\n",
        "    h = (b-a)/N\n",
        "    T = 0.5*f(a) + 0.5*f(b)\n",
        "    \n",
        "    for k in range(1,N):\n",
        "        T += f(a+k*h)\n",
        "    return(h*T)\n",
        "    \n",
        "I1 = 0\n",
        "I2 = TrapI(E,N,a,b)\n",
        "while np.abs(1/3*(I2-I1)) > error:\n",
        "    hi = (b-a)/N\n",
        "    I1 = I2\n",
        "    I2 = 1/2*I1\n",
        "    for k in range(1,N-1,2):\n",
        "        I2 += hi*E(a+k*hi)\n",
        "    N = 2*N\n",
        "\n",
        "def Romberg(f,a,b,eps):\n",
        "    size = 7\n",
        "    Q = np.zeros((size,size),float)\n",
        "\n",
        "    for i in range(0,7):\n",
        "        N = 2**i\n",
        "        No.append(N)\n",
        "        Q[i,0] = TrapI(f,N,a,b)\n",
        "        for k in range(0,i):\n",
        "            n = k + 2\n",
        "            Q[i,k+1] = 1.0/(4**(n-1)-1)*(4**(n-1)*Q[i,k] - Q[i-1,k])\n",
        "        if (i > 0):\n",
        "          if (np.inf >= error):\n",
        "            err.append(abs(Q[i,k+1] - Q[i,k]))\n",
        "            if (abs(Q[i,k+1] - Q[i,k]) < error):\n",
        "              break \n",
        "            \n",
        "\n",
        "\n",
        "    return Q, err, No\n",
        "\n",
        "Q, err, No = Romberg(E,a,b,error)"
      ]
    },
    {
      "cell_type": "code",
      "execution_count": 16,
      "metadata": {
        "colab": {
          "base_uri": "https://localhost:8080/"
        },
        "id": "UzNT8jxda0Kl",
        "outputId": "dd457a1d-30c3-4193-81a1-3baeecfd863a"
      },
      "outputs": [
        {
          "data": {
            "text/plain": [
              "array([[0.14797948, 0.        , 0.        , 0.        , 0.        ,\n",
              "        0.        , 0.        ],\n",
              "       [0.32523191, 0.38431605, 0.        , 0.        , 0.        ,\n",
              "        0.        , 0.        ],\n",
              "       [0.51228285, 0.57463317, 0.58732097, 0.        , 0.        ,\n",
              "        0.        , 0.        ],\n",
              "       [0.40299745, 0.36656898, 0.35269804, 0.34897386, 0.        ,\n",
              "        0.        , 0.        ],\n",
              "       [0.43010337, 0.43913868, 0.44397666, 0.44542552, 0.44580376,\n",
              "        0.        , 0.        ],\n",
              "       [0.44841467, 0.45451843, 0.45554375, 0.45572735, 0.45576775,\n",
              "        0.45577749, 0.        ],\n",
              "       [0.45391293, 0.45574569, 0.4558275 , 0.45583201, 0.45583242,\n",
              "        0.45583248, 0.45583249]])"
            ]
          },
          "execution_count": 16,
          "metadata": {},
          "output_type": "execute_result"
        }
      ],
      "source": [
        "Q"
      ]
    },
    {
      "cell_type": "code",
      "execution_count": 17,
      "metadata": {
        "colab": {
          "base_uri": "https://localhost:8080/"
        },
        "id": "YdLjT4CKbb3M",
        "outputId": "e62edd19-bfe2-4638-84db-9fe2d6ba659b"
      },
      "outputs": [
        {
          "data": {
            "text/plain": [
              "[inf,\n",
              " 0.05908414108660753,\n",
              " 0.0126878077423912,\n",
              " 0.00372417360802918,\n",
              " 0.0003782418080209293,\n",
              " 9.739968281519129e-06,\n",
              " 1.3428278877736233e-08]"
            ]
          },
          "execution_count": 17,
          "metadata": {},
          "output_type": "execute_result"
        }
      ],
      "source": [
        "err"
      ]
    },
    {
      "cell_type": "code",
      "execution_count": 18,
      "metadata": {
        "colab": {
          "base_uri": "https://localhost:8080/"
        },
        "id": "bYlwJ__2cwAD",
        "outputId": "cd9d6347-675f-445c-eba6-67f79b806a46"
      },
      "outputs": [
        {
          "data": {
            "text/plain": [
              "[1, 2, 4, 8, 16, 32, 64]"
            ]
          },
          "execution_count": 18,
          "metadata": {},
          "output_type": "execute_result"
        }
      ],
      "source": [
        "No"
      ]
    },
    {
      "cell_type": "code",
      "execution_count": 19,
      "metadata": {
        "colab": {
          "base_uri": "https://localhost:8080/"
        },
        "id": "er2HFmN4aELA",
        "outputId": "cc23b737-8909-4f7c-8508-b4aaa9d2f709"
      },
      "outputs": [
        {
          "data": {
            "text/plain": [
              "[0.14797948454665205,\n",
              " 0.38431604889308213,\n",
              " 0.5873209727713417,\n",
              " 0.34897386185747603,\n",
              " 0.4458037647108326,\n",
              " 0.45577749223109676,\n",
              " 0.4558324944613789]"
            ]
          },
          "execution_count": 19,
          "metadata": {},
          "output_type": "execute_result"
        }
      ],
      "source": [
        "values = []\n",
        "for i in range(7):\n",
        "  values.append(Q[i,i])\n",
        "values"
      ]
    },
    {
      "cell_type": "code",
      "execution_count": 20,
      "metadata": {
        "colab": {
          "base_uri": "https://localhost:8080/",
          "height": 271
        },
        "id": "dJyaUKK_7nFI",
        "outputId": "d0aa5470-5263-46e2-c553-914e5d83468e"
      },
      "outputs": [
        {
          "data": {
            "image/png": "[encoded data removed]",
            "text/plain": [
              "<Figure size 432x288 with 1 Axes>"
            ]
          },
          "metadata": {
            "needs_background": "light"
          },
          "output_type": "display_data"
        }
      ],
      "source": [
        "x= []\n",
        "y= []\n",
        "for i in range(0,len(data)):\n",
        "     x.append(data[i][2])\n",
        "\n",
        "for i in range(0,len(data)):\n",
        "     y.append(data[i][1])\n",
        "\n",
        "fig, ax = plt.subplots()\n",
        "\n",
        "ax.plot(x, y)\n",
        "ax.plot(x, y, 'bo')\n",
        "ax.plot(No, err)\n",
        "ax.plot(No, err, 'bo')\n",
        "plt.xscale(\"log\")\n",
        "plt.yscale(\"log\")\n",
        "plt.axhline([10**(-6)], color = 'salmon', linestyle = '--')\n",
        "\n",
        "\n",
        "plt.show()"
      ]
    },
    {
      "cell_type": "markdown",
      "metadata": {
        "id": "m2a6sg90R-NX"
      },
      "source": [
        "### PROBLEM 3 (10 pts.)\n",
        "\n",
        "**Integration using Gaussian quadrature**\n",
        "\n",
        "Calculate the integral from Problem 1 using the Gaussian quadrature method: $ 2x^4 + 3x^2 + 4x + 5$ from $x=0$ to $x=5$.\n",
        "\n",
        "1. Define the function $\\tt gaussxw$ from Appendix E of the Newman text (and run the cell). *(2 pts.)*\n",
        "\n",
        "2. Calculate the integral using the $\\tt gaussxw$ function in (1) and number of slices $N = 3$. Describe each step in the calculation clearly and concisely. *(8 pts.; 4 pts. for the code & 4 pts. for the discussion text)*"
      ]
    },
    {
      "cell_type": "code",
      "execution_count": 21,
      "metadata": {
        "id": "YO_PDJ4VIVs5"
      },
      "outputs": [],
      "source": [
        "## 1 ##\n",
        "from numpy import ones,copy,cos,tan,pi,linspace\n",
        "\n",
        "def gaussxw(N):\n",
        "\n",
        "    # Initial approximation to roots of the Legendre polynomial\n",
        "    a = linspace(3,4*N-1,N)/(4*N+2)\n",
        "    x = cos(pi*a+1/(8*N*N*tan(a)))\n",
        "\n",
        "    # Find roots using Newton's method\n",
        "    epsilon = 1e-15\n",
        "    delta = 1.0\n",
        "    while delta>epsilon:\n",
        "        p0 = ones(N,float)\n",
        "        p1 = copy(x)\n",
        "        for k in range(1,N):\n",
        "            p0,p1 = p1,((2*k+1)*x*p1-k*p0)/(k+1)\n",
        "        dp = (N+1)*(p0-x*p1)/(1-x*x)\n",
        "        dx = p1/dp\n",
        "        x -= dx\n",
        "        delta = max(abs(dx))\n",
        "\n",
        "    # Calculate the weights\n",
        "    w = 2*(N+1)*(N+1)/(N*N*(1-x*x)*dp*dp)\n",
        "\n",
        "    return x,w\n",
        "\n",
        "\n",
        "def gaussxwab(N,a,b):\n",
        "  x,w = gaussxw(N)\n",
        "  return 0.5*(b-a)*x+0.5*(b+a),0.5*(b-a)*w\n",
        "  "
      ]
    },
    {
      "cell_type": "code",
      "execution_count": 22,
      "metadata": {
        "id": "XDlfztttmkC1"
      },
      "outputs": [],
      "source": [
        "def f(x):\n",
        "  return 2*x**4 + 3*x**2 + 4*x + 5\n"
      ]
    },
    {
      "cell_type": "code",
      "execution_count": 23,
      "metadata": {
        "id": "_Z-3k8tp_Bno"
      },
      "outputs": [],
      "source": [
        "def gquadrature(function,a, b):\n",
        "\n",
        "    xp, wp = gaussxwab(N,a,b)\n",
        "\n",
        "    s = 0.0\n",
        "\n",
        "    for k in range(N):\n",
        "        s += wp[k]*function(xp[k])\n",
        "\n",
        "    return s\n"
      ]
    },
    {
      "cell_type": "code",
      "execution_count": 24,
      "metadata": {
        "id": "b9ZLOPjFnPWF"
      },
      "outputs": [
        {
          "name": "stdout",
          "output_type": "stream",
          "text": [
            "1450.000000000002\n"
          ]
        }
      ],
      "source": [
        "N = 3\n",
        "a = 0\n",
        "b = 5\n",
        "\n",
        "x, w = gaussxw(N)\n",
        "xp = 0.5 * (b-a) * x + 0.5 * (b+a)\n",
        "wp = 0.5 * (b-a) * w \n",
        "\n",
        "# Performing the integration\n",
        "s = 0.0\n",
        "for k in range(N):\n",
        "  s += wp[k] * f(xp[k])\n",
        "\n",
        "print(s)"
      ]
    },
    {
      "cell_type": "markdown",
      "metadata": {
        "id": "HceOjNu-VfN9"
      },
      "source": [
        "### PROBLEM 4 (30 pts.)\n",
        "\n",
        "**Physics Application: Anharmonic Oscillator**\n",
        "\n",
        "_Refer to Exercise 5.10 of the Newman text._ Consider an anharmonic oscillator with potential $V(x)$ symmetric about $x = 0$. Let us set our anharmonic oscillator going with amplitude $a$. That is, at $t = 0$ we release it from rest at position $x = a$ and it swings back towards the origin. Then at $t = 0$ we have $dx/dt = 0$ and the equation for its total energy becomes $E = V(a)$, i.e., the total energy of the particle is given in terms of the amplitude.\n",
        "\n",
        "When the particle reaches the origin for the first time, it has gone through one quarter of a period of the oscillator. The period $T$ is given by: $$ T = \\sqrt{8m} \\int_0^a \\frac{dx}{\\sqrt{V(a)-V(x)}}. $$\n",
        "\n",
        "1. Suppose the potential is $V(x) = x^4$ and the mass of the particle is $m = 1$. Write a Python function that calculates the period of the oscillator for given amplitude a using Gaussian quadrature with $N = 20$ points. Describe each step clearly and concisely. *(16 pts.; 8 pts. for the code & 8 pts. for the discussion text)*\n",
        "\n",
        "2. Use your function to make a graph of the period for amplitudes ranging from $a = 0$ to $a = 2$. Describe the behavior you find and explain these results clearly and concisely. *(14 pts.; 7 pts. for the plot & 7 pts. for the discussion text)*"
      ]
    },
    {
      "cell_type": "code",
      "execution_count": 25,
      "metadata": {
        "colab": {
          "base_uri": "https://localhost:8080/",
          "height": 232
        },
        "id": "TgzR--0FucNi",
        "outputId": "3dbd33f7-285d-4c46-adc8-46a98b2147a5"
      },
      "outputs": [
        {
          "data": {
            "image/png": "[encoded data removed]",
            "text/plain": [
              "<Figure size 576x432 with 1 Axes>"
            ]
          },
          "metadata": {
            "needs_background": "light"
          },
          "output_type": "display_data"
        }
      ],
      "source": [
        "#4\n",
        "m = 1 \n",
        "N = 20\n",
        "a = 0\n",
        "amplitude = linspace(0.1,2,N) # start, stop, number of samples to generate\n",
        "\n",
        "def T(x):\n",
        "  return sqrt(8*m) / sqrt(amp**4 - x**4)\n",
        "\n",
        "S = []\n",
        "for amp in amplitude:\n",
        "  S.append(gquadrature(T,a,amp))\n",
        "\n",
        "plt.figure(figsize=(8,6))\n",
        "plt.title(\"Period of an anharmonic oscillator\")\n",
        "plt.xlabel(\"Amplitude (m)\")\n",
        "plt.ylabel(\"Period (s)\")\n",
        "plt.plot(amplitude,S, 'black')\n",
        "plt.show()\n",
        "\n"
      ]
    },
    {
      "cell_type": "code",
      "execution_count": 26,
      "metadata": {
        "colab": {
          "base_uri": "https://localhost:8080/",
          "height": 232
        },
        "id": "omPPPdiVvkNH",
        "outputId": "c15b9ce6-e723-4f08-a8a6-b9d44454280b"
      },
      "outputs": [
        {
          "data": {
            "image/png": "[encoded data removed]",
            "text/plain": [
              "<Figure size 432x288 with 1 Axes>"
            ]
          },
          "metadata": {
            "needs_background": "light"
          },
          "output_type": "display_data"
        }
      ],
      "source": [
        "#Trial\n",
        "x,w = gaussxwab(20, 0, amp)\n",
        "s= 0.0\n",
        "for k in range(N):\n",
        "  s += w[k]*T(x[k])\n",
        "\n",
        "plt.plot(x,w)\n",
        "plt.show()"
      ]
    },
    {
      "cell_type": "markdown",
      "metadata": {
        "id": "BY5x-mZsYoqG"
      },
      "source": [
        "### PROBLEM 5 (20 pts.)\n",
        "\n",
        "**Differentiation using central difference**\n",
        "\n",
        "1. Calculate the derivative of the function $1 + \\frac{1}{2} \\tanh 2x$ in the range $-2 \\le x \\le 2$ using central difference. Describe each step of the calculation clearly and concisely. *(10 pts.; 5 pts. for the code & 5 pts. for the discussion text)*\n",
        "\n",
        "2. Calculate an analytic formula for the derivative and make a graph with your numerical result and the analytic answer on the same plot. Plot the exact answer as lines and the numerical one as dots. Describe how the two results compare. *(10 pts.; 5 pts. for the code & 5 pts. for the discussion text)*"
      ]
    },
    {
      "cell_type": "code",
      "execution_count": 27,
      "metadata": {
        "colab": {
          "base_uri": "https://localhost:8080/"
        },
        "id": "ZWXWJyYdLS5G",
        "outputId": "d1f66b76-9c9f-4176-9221-fcb5bae52d3c"
      },
      "outputs": [
        {
          "data": {
            "text/plain": [
              "[0.0013322676295501878,\n",
              " 0.07061018436615996,\n",
              " 1.0000333894311098,\n",
              " 0.07061018436615996,\n",
              " 0.0013322676295501878]"
            ]
          },
          "execution_count": 27,
          "metadata": {},
          "output_type": "execute_result"
        }
      ],
      "source": [
        "from math import tanh, cosh\n",
        "here = []\n",
        "def func(x):\n",
        "  return 1 + 0.5 * tanh(2*x) \n",
        "def CentralDif(f,x,h):\n",
        "  derivative = (f(x+h) - f(x-h))/ (2 * h)\n",
        "  return derivative\n",
        "\n",
        "for i in range(-2,3,1):\n",
        "  here.append(CentralDif(func,i,0.000000000001))\n",
        "\n",
        "here"
      ]
    },
    {
      "cell_type": "code",
      "execution_count": 28,
      "metadata": {
        "id": "ykU0NfRcDNaU"
      },
      "outputs": [],
      "source": [
        "def deriv_fun(x):\n",
        "  return ((1/ cosh(2*x)) **  2 )"
      ]
    },
    {
      "cell_type": "code",
      "execution_count": 29,
      "metadata": {
        "colab": {
          "base_uri": "https://localhost:8080/"
        },
        "id": "prjSsn_uF12t",
        "outputId": "58a631c5-aa9b-4c9d-a6a4-1b7e69c8443c"
      },
      "outputs": [
        {
          "data": {
            "text/plain": [
              "[0.0013409506830258967,\n",
              " 0.07065082485316448,\n",
              " 1.0,\n",
              " 0.07065082485316448,\n",
              " 0.0013409506830258967]"
            ]
          },
          "execution_count": 29,
          "metadata": {},
          "output_type": "execute_result"
        }
      ],
      "source": [
        "blank = []\n",
        "for i in range(-2,3,1):\n",
        "  blank.append(deriv_fun(i))\n",
        "\n",
        "blank"
      ]
    },
    {
      "cell_type": "code",
      "execution_count": 30,
      "metadata": {
        "colab": {
          "base_uri": "https://localhost:8080/",
          "height": 265
        },
        "id": "Xo9Dv4AfF-jE",
        "outputId": "dd6f835f-0865-4d30-9cb5-8e7602b237b5"
      },
      "outputs": [
        {
          "data": {
            "image/png": "[encoded data removed]",
            "text/plain": [
              "<Figure size 432x288 with 1 Axes>"
            ]
          },
          "metadata": {
            "needs_background": "light"
          },
          "output_type": "display_data"
        }
      ],
      "source": [
        "x = [-2,-1,0,1,2]\n",
        "\n",
        "plt.scatter(x,here, color = 'salmon')\n",
        "plt.plot(x,blank, '--')\n",
        "plt.show()"
      ]
    },
    {
      "cell_type": "code",
      "execution_count": null,
      "metadata": {
        "id": "WFIKxkMkI-9l"
      },
      "outputs": [],
      "source": []
    }
  ],
  "metadata": {
    "colab": {
      "provenance": []
    },
    "kernelspec": {
      "display_name": "Python 3.9.12 ('base')",
      "language": "python",
      "name": "python3"
    },
    "language_info": {
      "codemirror_mode": {
        "name": "ipython",
        "version": 3
      },
      "file_extension": ".py",
      "mimetype": "text/x-python",
      "name": "python",
      "nbconvert_exporter": "python",
      "pygments_lexer": "ipython3",
      "version": "3.9.12"
    },
    "vscode": {
      "interpreter": {
        "hash": "81f9d155fd7462ec9bb1928a5fcffacfa0784a3bd7d193be02511bd1ca52f09f"
      }
    }
  },
  "nbformat": 4,
  "nbformat_minor": 0
}
