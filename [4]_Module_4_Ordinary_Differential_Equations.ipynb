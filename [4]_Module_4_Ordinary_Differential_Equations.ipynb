{
  "nbformat": 4,
  "nbformat_minor": 0,
  "metadata": {
    "colab": {
      "provenance": []
    },
    "kernelspec": {
      "name": "python3",
      "display_name": "Python 3"
    }
  },
  "cells": [
    {
      "cell_type": "markdown",
      "metadata": {
        "id": "G0BcK0H_G1Iu"
      },
      "source": [
        "# **AP155 Lab Assignment** \n",
        "## Module 5: Ordinary Differential Equations\n",
        "\n",
        "_Instructions_: Answer each problem as completely as you can. Discuss **all** your answers as clearly and concisely as possible. \n",
        "\n",
        "_Scoring Criteria_: 50% - *correctness of code*; 50% - *discussion of the code and results*. Maximum score is **100 points** (Problems 1 to 3 are worth 25, 25, and 50 points, respectively).\n",
        "\n",
        "_Due Date_: **5PM of December 7 (Tue)**\n"
      ]
    },
    {
      "cell_type": "markdown",
      "metadata": {
        "id": "PeHZ9kP8JaVR"
      },
      "source": [
        "### Student Information \n",
        "\n",
        "_Full Name (Last Name, First Name)_: Jonabel Eleanor B. Baldres\\\n",
        "_Student No._: 2020-07278\\\n",
        "_Section_: THU-HX-3"
      ]
    },
    {
      "cell_type": "markdown",
      "metadata": {
        "id": "Hc183co-J4eI"
      },
      "source": [
        "### Submission Information\n",
        "\n",
        "_Date and Time Submitted (most recent upload)_: 3 December 2022\n",
        "\n",
        "**HONOR PLEDGE** I affirm that I have upheld the highest principles of honesty and integrity in my academic work and that this lab assignment is my own work.\n",
        "\n",
        "**Sign here with your full name:** sgd. Jonabel Eleanor Baldres"
      ]
    },
    {
      "cell_type": "markdown",
      "metadata": {
        "id": "aOuHbwPqGjZ4"
      },
      "source": [
        "### Grading Information (c/o Lab Instructor)\n",
        "\n",
        "TOTAL SCORE: **97**/100\n",
        "\n",
        "Score breakdown:\n",
        "* Problem 1 - 25/25\n",
        "* Problem 2 - 24/25\n",
        "* Problem 3 - 48/50\n",
        "\n",
        "_Date and Time Scored (MM/DD/YYYY HH:MM AM/PM):_ "
      ]
    },
    {
      "cell_type": "code",
      "metadata": {
        "id": "hMqWOsbIMoUh"
      },
      "source": [
        "# importing important libraries\n",
        "import matplotlib.pyplot as plt\n",
        "import numpy as np\n",
        "from math import sin, pi, inf, sqrt"
      ],
      "execution_count": 670,
      "outputs": []
    },
    {
      "cell_type": "markdown",
      "metadata": {
        "id": "LxWuqiCFMsEh"
      },
      "source": [
        "### PROBLEM 1 (25 pts.; 50/50 for code & discussion) \n",
        "**The Lotka-Volterra equations**\n",
        "\n",
        "_Refer to Exercise 8.2 in the Newman text._ The Lotka-Volterra equations are a mathematical model of predator-prey interactions between biological species. Let two variables $x$ and $y$ be proportional to the size of the populations of two species, traditionally called \"rabbits\" (the prey) and \"foxes\" (the predators). You could think of $x$ and $y$ as being the population in thousands, say, so that $x = 2$ means there are 2000 rabbits. \n",
        "\n",
        "In the Lotka-Volterra model the rabbits reproduce at a rate proportional to their population, but are eaten by the foxes at a rate proportional to both their own population and the population of foxes:\n",
        "\n",
        "$$\\frac{{\\rm d}x}{{\\rm d}t} = \\alpha x - \\beta xy,$$\n",
        "\n",
        "where $\\alpha$ and $\\beta$ are constants. At the same time the foxes reproduce at a rate proportional to the rate at which they eat rabbits-- because they need food to grow and reproduce-- but also die of old age at a rate proportional to their own population:\n",
        "\n",
        "$$\\frac{{\\rm d}y}{{\\rm d}t}  = \\gamma xy - \\delta y,$$\n",
        "\n",
        "where $\\gamma$ and $\\delta$ are also constants. *(15 pts.)*\n",
        "\n",
        "1. Solve these equations using the fourth-order Runge-Kutta method for the case $\\alpha = 1, \\beta = \\gamma = 0.5$, and $\\delta = 2$, starting from the initial condition $x = y = 2$. \n",
        "\n",
        "2. Make a graph showing both $x$ and $y$ as a function of time on the same axes from $t =0$ to $t = 30$. *(10 pts.)*"
      ]
    },
    {
      "cell_type": "code",
      "source": [
        "def f(r,t):\n",
        "  '''defining the equations given'''\n",
        "  x = r[0] #the value of x is stored as the first index of the array r\n",
        "  y = r[1] #the value of x is stored as the second index of the array r\n",
        "  fx = alpha * x - beta * x * y # dx/dt\n",
        "  fy = gamma * x * y - delta * y #dy/dt\n",
        "  return np.array([fx,fy],float) "
      ],
      "metadata": {
        "id": "fqZKdNQ5Ff3W"
      },
      "execution_count": 671,
      "outputs": []
    },
    {
      "cell_type": "code",
      "source": [
        "#listing all the constants provided\n",
        "alpha = 1\n",
        "beta = 0.5\n",
        "delta = 2\n",
        "gamma = 0.5\n",
        "a= 0.0 #starting time\n",
        "b = 30.0 #end time\n",
        "N= 1000 #number of steps\n",
        "h = (b-a) / N"
      ],
      "metadata": {
        "id": "ARrfQnTOF4oP"
      },
      "execution_count": 672,
      "outputs": []
    },
    {
      "cell_type": "code",
      "source": [
        "tpoints = np.arange(a,b,h)\n",
        "xpoints = [] # where we store the values for x \n",
        "ypoints = [] # where we store the values for y"
      ],
      "metadata": {
        "id": "60dq-jD6GmX3"
      },
      "execution_count": 673,
      "outputs": []
    },
    {
      "cell_type": "code",
      "source": [
        "#code for the runge-kutta methood\n",
        "r = np.array([2.0, 2.0]) #here, the initial conditions of x and y starts at 2\n",
        "for t in tpoints:\n",
        "  xpoints.append(r[0])\n",
        "  ypoints.append(r[1])\n",
        "  k1 = h * f(r,t)\n",
        "  k2 = h * f(r+ 0.5 * k1, t+0.5*h)\n",
        "  k3 = h *f(r+0.5*k2, t+0.5*h)\n",
        "  k4 = h*f(r+k3,t+h)\n",
        "  r += (k1+2*k2+2*k3+k4) / 6\n",
        "\n",
        "fig, ax = plt.subplots()\n",
        "ax.plot(tpoints, xpoints, color = 'salmon', label = 'rabbits (prey)')\n",
        "ax.plot(tpoints,ypoints, color = 'goldenrod', label = 'foxes (predator)')\n",
        "ax.set_ylim(0,9)\n",
        "ax.set_xlabel('t')\n",
        "ax.set_ylabel('Population (in thousands)')\n",
        "ax.legend()"
      ],
      "metadata": {
        "colab": {
          "base_uri": "https://localhost:8080/",
          "height": 300
        },
        "id": "OBsXGb6AIHNa",
        "outputId": "381f740c-4393-4ded-c4a8-18c04db649ef"
      },
      "execution_count": 674,
      "outputs": [
        {
          "output_type": "execute_result",
          "data": {
            "text/plain": [
              "<matplotlib.legend.Legend at 0x7f87d5361c70>"
            ]
          },
          "metadata": {},
          "execution_count": 674
        },
        {
          "output_type": "display_data",
          "data": {
            "text/plain": [
              "<Figure size 432x288 with 1 Axes>"
            ],
            "image/png": "[encoded data removed]"
          },
          "metadata": {
            "needs_background": "light"
          }
        }
      ]
    },
    {
      "cell_type": "markdown",
      "source": [
        "The Lotka-Volterra model predicts that the prey consumption rate of a predator has a direct relationship to the prey abundance. From the graph, we can support what the model predicts. The prey population has a positive effect on the fox population. On the other hand, the predator population has a negative effect on the prey population. When the population of the prey rises, there is abundant food source for the predator making their population grow as well."
      ],
      "metadata": {
        "id": "Y4fBkY8LpIeD"
      }
    },
    {
      "cell_type": "markdown",
      "metadata": {
        "id": "kBX9EyMLOnXj"
      },
      "source": [
        "### PROBLEM 2 (25 pts.; 50/50 for code & discussion)\n",
        "\n",
        "**Nonlinear pendulum**\n",
        "\n",
        "_Refer to Exercise 8.4 in the Newman text._ Building on the results from Example 8.6, calculate the motion of a nonlinear pendulum as follows.\n",
        "\n",
        "1. Solve the two first-order equations, Eqs. (8.45) and (8.46), using the fourth-order Runge-Kutta method for a pendulum with a 10 cm arm. Use your program to calculate the angle $\\theta$ of displacement for several periods of the pendulum when it is released from a standstill at $\\theta = 179^\\circ$ from the vertical. *(15 pts.)*\n",
        "\n",
        "2. Make a graph of $\\theta$ as a function of time. *(10 pts.)*\n"
      ]
    },
    {
      "cell_type": "markdown",
      "source": [
        "To solve, we first turn the given second-order equation into two first-order equations since nonlinear equations are not easy to solve. Our initial equation of motion for the pendulum is \n",
        "\n",
        "\\begin{align}\n",
        "  \\frac{d^2 \\theta}{dt^2} = - \\frac{g}{l} \\sin{\\theta}\n",
        "  \\end{align}\n",
        "\n",
        "Defining a new variable $\\omega$ by\n",
        " \\begin{align}\n",
        "  \\frac{d \\theta}{dt} = \\omega\n",
        "  \\end{align}\n",
        "\n",
        "The initial equation becomes\n",
        "\n",
        "\\begin{align}\n",
        "  \\frac{d \\omega}{dt} = -\\frac{g}{l} \\sin{\\theta}\n",
        "  \\end{align}"
      ],
      "metadata": {
        "id": "HUZyFTw3ErLx"
      }
    },
    {
      "cell_type": "code",
      "source": [
        "#constants\n",
        "g = 9.81 # gravity\n",
        "l = 0.1 # length\n",
        "a = 0\n",
        "b = 10\n",
        "N = 1000\n",
        "h = (b-a)/N\n",
        "theta = np.deg2rad(179) #converting the degree to radians\n"
      ],
      "metadata": {
        "id": "1V6QBWG5F4C1"
      },
      "execution_count": 675,
      "outputs": []
    },
    {
      "cell_type": "code",
      "metadata": {
        "id": "R0g43FSaZdBz"
      },
      "source": [
        "def f(r,t):\n",
        "  '''defining the equation'''\n",
        "  theta = r[0] # assigning theta values as the first index of array r\n",
        "  omega = r[1] # assigning theta values as the second index of array r\n",
        "  ftheta = omega # definition of the new variable\n",
        "  fomega = - (g/l) * sin(theta)  # modification of the initial equation\n",
        "  return np.array([ftheta, fomega], float)"
      ],
      "execution_count": 676,
      "outputs": []
    },
    {
      "cell_type": "code",
      "source": [
        "tpoints = np.arange(a,b,h) \n",
        "radians = [] # to store the values of radians"
      ],
      "metadata": {
        "id": "ggZpHvgNOyrC"
      },
      "execution_count": 677,
      "outputs": []
    },
    {
      "cell_type": "code",
      "source": [
        "r = np.array([theta, 0],float)\n",
        "#using the runge-kutta method\n",
        "for t in tpoints:\n",
        "  radians.append(r[0])\n",
        "  k1 = h * f(r,t)\n",
        "  k2 = h * f(r+ 0.5 * k1, t+0.5*h)\n",
        "  k3 = h *f(r+0.5*k2, t+0.5*h)\n",
        "  k4 = h*f(r+k3,t+h)\n",
        "  r += (k1+2*k2+2*k3+k4) / 6\n",
        "\n",
        "max, min = 0,0\n",
        "for x in range(len(radians)): #converting back to degrees\n",
        "  radians[x] = np.degrees(radians[x]) \n",
        "  if radians[x] > max:\n",
        "    max = radians[x]\n",
        "  if radians[x] < min:\n",
        "    min = radians[x]\n",
        "\n",
        "\n",
        "fig, ax = plt.subplots()\n",
        "ax.axhline(y=max, linestyle = '--', color = 'salmon', alpha = 0.7)\n",
        "ax.axhline(y=min, linestyle = '--', color = 'salmon', alpha = 0.7)\n",
        "ax.axhline(y =0, linestyle = '--', color = 'salmon', alpha = 0.7)\n",
        "ax.plot(tpoints, radians, color = 'darkcyan')\n",
        "ax.set_xlabel('t (seconds)')\n",
        "ax.set_ylabel('Angular displacement (degrees)')\n",
        "ax.set_xlim(0,10)"
      ],
      "metadata": {
        "colab": {
          "base_uri": "https://localhost:8080/",
          "height": 296
        },
        "id": "DY5DQZEKNmQu",
        "outputId": "ec80dc3f-78ea-4f0f-e972-3d43af7a39c5"
      },
      "execution_count": 678,
      "outputs": [
        {
          "output_type": "execute_result",
          "data": {
            "text/plain": [
              "(0.0, 10.0)"
            ]
          },
          "metadata": {},
          "execution_count": 678
        },
        {
          "output_type": "display_data",
          "data": {
            "text/plain": [
              "<Figure size 432x288 with 1 Axes>"
            ],
            "image/png": "[encoded data removed]"
          },
          "metadata": {
            "needs_background": "light"
          }
        }
      ]
    },
    {
      "cell_type": "markdown",
      "metadata": {
        "id": "Hs6zy-yraBeY"
      },
      "source": [
        "### PROBLEM 3 (50 pts.; 50/50 for code & discussion)\n",
        "\n",
        "**Quantum Oscillators**\n",
        "\n",
        "_Refer to Exercise 8.14 of the Newman text_ Consider the one-dimensional, time-independent Schrodinger equation in a harmonic (i.e., quadratic) potential $V(x) = V_0 x^2 / a^2$, where $V_0$ and $a$ are constants. \n",
        "\n",
        "1. Modify the code from Example 8.9 to find the energies of the ground state and the first two excited states for this potential when $m$ is the electron mass, $V_0 = 50$ eV, and $a = 10^{-11}$ m. Note that in theory the wavefunction goes all the way out to $x = \\pm \\infty$, but you can get good answers by using a large but finite interval. Try using $x = - 10a$ to $+10a$, with the wavefunction $\\psi = 0$ at both boundaries. (In effect, you are putting the harmonic oscillator in a box with impenetrable walls.) The wavefunction is real everywhere, so you don't need to use complex variables, and you can use evenly spaced points for the solution-- there is no need to use an adaptive method for this problem.\n",
        "\n",
        "   The quantum harmonic oscillator is known to have energy states that are equally spaced. Check that this is true, to the precision of your calculation, for your answers. (Hint: The ground state has energy in the range 100 to 200eV.) *(20 pts.)*\n",
        "\n",
        "2. Modify the code from (1) to calculate the same three energies for the anharmonic oscillator with $V(x) = V_0 x^4 /a^4$, with the same parameter values. *(10 pts.)*\n",
        "\n",
        "3. Calculate the properly normalized wavefunctions of the anharmonic oscillator for the three states. To normalize the wavefunctions you will have to calculate the value of the integral $\\int_{-\\infty}^{+\\infty} |\\psi(x)|^2 {\\rm d}x$ and then rescale $\\psi$ appropriately to ensure that the area under the square of each of the wavefunctions is 1. Either the trapezoidal rule or Simpson's rule will give you a reasonable value for the integral. *(15 pts.)*\n",
        "\n",
        "   Note that you may find a few very large values at the end of the array holding the wavefunction. Where do these large values come from? Are they real, or spurious? One simple way to deal with the large values is to make use of the fact that the system is symmetric about its midpoint and calculate the integral of the wavefunction over only the left-hand half of the system, then double the result. This neatly misses out the large values. \n",
        "\n",
        "4. Make a plot of the normalized wavefunctions from (3), all on the same axes, as a function of $x$ over a modest range near the origin-- say $x = -5a$ to $x =+5a$. *(5 pts.)*\n",
        "\n"
      ]
    },
    {
      "cell_type": "markdown",
      "source": [
        "The time-independent Schrodinger equation is given by the formula\n",
        "\n",
        "\\begin{align}\n",
        "  - \\frac{\\hbar}{2m} \\frac{d^2 \\psi}{dx^2} + V(x) \\psi (x) = E \\psi (x)\n",
        "  \\end{align}\n",
        "where $\\psi(x)$ is the wavefunction, $V(x)$ is the potential energy at position $x$, and $E$ is the total energy of the particle, plus kinetic. \n",
        "\n",
        "Since the equation is in second-order, we turn them into first-order equations. We let\n",
        "\n",
        "\\begin{align}\n",
        "  \\frac{d \\psi }{dx} = \\phi \\hspace{1cm} \\frac{d \\phi}{dx} = \\frac{2m}{\\hbar^2} [V(x) - E] \\psi \n",
        "  \\end{align}\n",
        "\n",
        "Note that we know that $psi = 0$ at $x = 0$ however, we lack the knowledge on the value of $\\frac{d\\psi}{dx}$ resorting to varying the energy $E$ and calculating it from the range provided. "
      ],
      "metadata": {
        "id": "RizBwAzFI3WN"
      }
    },
    {
      "cell_type": "code",
      "metadata": {
        "id": "nMx3AX6iaF8Q"
      },
      "source": [
        "#constants\n",
        "m = 9.1094e-31\n",
        "e = 1.6022e-19\n",
        "V_0 = 50. * e #eV\n",
        "a = 1.e-11 #m\n",
        "x_1 = -10. * a\n",
        "x_2 = 10. *a\n",
        "hbar = 1.0546e-34 #Planck's constant\n",
        "N = 1000\n",
        "h = (x_2 - x_1) / N\n"
      ],
      "execution_count": 679,
      "outputs": []
    },
    {
      "cell_type": "code",
      "source": [
        "# Function\n",
        "def V(x): \n",
        "  return V_0 * (x ** 2) / (a**2)\n",
        "\n",
        "def f(r,x,E): \n",
        "  psi = r[0]\n",
        "  phi = r[1]\n",
        "  fpsi = phi\n",
        "  fphi = (2*m/ hbar **2) * (V(x)-E) * psi\n",
        "  return np.array([fpsi,fphi], float)\n",
        "\n",
        "# Calculate the wavefunction for a particular energy\n",
        "def solve(E):\n",
        "  psi = 0.0\n",
        "  phi = 1.0\n",
        "  r = np.array([psi,phi], float)\n",
        "\n",
        "  for x in np.arange(x_1,x_2,h):\n",
        "    k1 = h * f(r,x,E)\n",
        "    k2 = h * f(r+ 0.5 * k1, x+0.5*h, E)\n",
        "    k3 = h * f(r+ 0.5 * k2, x+0.5*h, E)\n",
        "    k4 = h*f(r+k3,x+h,E)\n",
        "    r += (k1+2*k2+2*k3+k4) / 6\n",
        "\n",
        "  return r[0]"
      ],
      "metadata": {
        "id": "w8YR6XCQWjZ-"
      },
      "execution_count": 680,
      "outputs": []
    },
    {
      "cell_type": "code",
      "source": [
        "E1 = 0.0\n",
        "E2 = e\n",
        "psi2 = solve(E1)\n",
        "\n",
        "target = e/1000\n",
        "while abs(E1-E2) > target:\n",
        "  psi1,psi2 = psi2,solve(E2)\n",
        "  E1,E2 = E2, E2 - psi2*(E2 - E1) / (psi2 -psi1)\n",
        "\n",
        "GS = E2/e\n",
        "print(\"The ground state energy is \", E2/e, \"eV\")\n"
      ],
      "metadata": {
        "colab": {
          "base_uri": "https://localhost:8080/"
        },
        "id": "HM3IEqflXUYU",
        "outputId": "808226fc-4b4d-47dc-f72d-c33217954bb0"
      },
      "execution_count": 681,
      "outputs": [
        {
          "output_type": "stream",
          "name": "stdout",
          "text": [
            "The ground state energy is  138.02397130603683 eV\n"
          ]
        }
      ]
    },
    {
      "cell_type": "code",
      "source": [
        "E1 = 140 * e\n",
        "E2 = 300 * e\n",
        "psi2 = solve(E1)\n",
        "\n",
        "target = e/1000\n",
        "while abs(E1-E2) > target:\n",
        "  psi1,psi2 = psi2,solve(E2)\n",
        "  E1,E2 = E2, E2 - psi2*(E2 - E1) / (psi2 -psi1)\n",
        "\n",
        "FE = E2/e\n",
        "print(\"The first excited state energy is \", FE, \"eV\")"
      ],
      "metadata": {
        "colab": {
          "base_uri": "https://localhost:8080/"
        },
        "id": "ZkOixceuXkkt",
        "outputId": "d6fb28e7-9e70-4a25-a631-a6df327d6813"
      },
      "execution_count": 682,
      "outputs": [
        {
          "output_type": "stream",
          "name": "stdout",
          "text": [
            "The first excited state energy is  414.07191654124284 eV\n"
          ]
        }
      ]
    },
    {
      "cell_type": "code",
      "source": [
        "E1 = 420 * e\n",
        "E2 = 700 * e\n",
        "psi2 = solve(E1)\n",
        "\n",
        "target = e/1000\n",
        "while abs(E1-E2) > target:\n",
        "  psi1,psi2 = psi2,solve(E2)\n",
        "  E1,E2 = E2, E2 - psi2*(E2 - E1) / (psi2 -psi1)\n",
        "\n",
        "SE = E2/e\n",
        "print(\"The second excited state energy is \", SE, \"eV\")"
      ],
      "metadata": {
        "colab": {
          "base_uri": "https://localhost:8080/"
        },
        "id": "jjHuSvOuZB5M",
        "outputId": "5dbfa129-5e10-413f-f39f-dfda8a60e697"
      },
      "execution_count": 683,
      "outputs": [
        {
          "output_type": "stream",
          "name": "stdout",
          "text": [
            "The second excited state energy is  690.1198621200641 eV\n"
          ]
        }
      ]
    },
    {
      "cell_type": "markdown",
      "source": [
        "To check that the quantum harmonic oscillator's energy states are equally spaced, we divide the first and second excited state to the ground state. Shown below is the result that shows that the energies are quantized."
      ],
      "metadata": {
        "id": "MYM4c8b_QYMY"
      }
    },
    {
      "cell_type": "code",
      "source": [
        "print(round(FE / GS)) # dividing the first excited state by the ground state energy\n",
        "print(round(SE/GS)) # dividing the second excited state by ground state energy"
      ],
      "metadata": {
        "colab": {
          "base_uri": "https://localhost:8080/"
        },
        "id": "1a49_W4vkAZy",
        "outputId": "0daa8fd5-e5d7-443a-c835-2d9ce36937cf"
      },
      "execution_count": 684,
      "outputs": [
        {
          "output_type": "stream",
          "name": "stdout",
          "text": [
            "3\n",
            "5\n"
          ]
        }
      ]
    },
    {
      "cell_type": "markdown",
      "source": [
        "We do the same thing for number 2 however, with different value for $V(x)$"
      ],
      "metadata": {
        "id": "8JCahG--iCOb"
      }
    },
    {
      "cell_type": "code",
      "source": [
        "# Function\n",
        "def V(x): \n",
        "  return V_0 * (x ** 4) / (a**4)\n",
        "\n",
        "def f(r,x,E): \n",
        "  psi = r[0]\n",
        "  phi = r[1]\n",
        "  fpsi = phi\n",
        "  fphi = (2*m/ hbar **2) * (V(x)-E) * psi\n",
        "  return np.array([fpsi,fphi], float)\n",
        "\n",
        "def solve(E):\n",
        "  psi = 0.0\n",
        "  phi = 1.0\n",
        "  r = np.array([psi,phi], float)\n",
        "\n",
        "  for x in np.arange(x_1,x_2,h):\n",
        "    k1 = h * f(r,x,E)\n",
        "    k2 = h * f(r+ 0.5 * k1, x+0.5*h, E)\n",
        "    k3 = h * f(r+ 0.5 * k2, x+0.5*h, E)\n",
        "    k4 = h*f(r+k3,x+h,E)\n",
        "    r += (k1+2*k2+2*k3+k4) / 6\n",
        "\n",
        "  return r[0]\n"
      ],
      "metadata": {
        "id": "tC9SMyNthDpW"
      },
      "execution_count": 685,
      "outputs": []
    },
    {
      "cell_type": "code",
      "source": [
        "E1 = 0.0\n",
        "E2 = e\n",
        "psi2 = solve(E1)\n",
        "\n",
        "target = e/1000\n",
        "while abs(E1-E2) > target:\n",
        "  psi1,psi2 = psi2,solve(E2)\n",
        "  E1,E2 = E2, E2 - psi2*(E2 - E1) / (psi2 -psi1)\n",
        "\n",
        "GS = E2/e\n",
        "print(\"The ground state energy is\", GS, \"eV\")"
      ],
      "metadata": {
        "colab": {
          "base_uri": "https://localhost:8080/"
        },
        "id": "9FGSEDfDjI6-",
        "outputId": "54079fbb-2451-4837-b60a-850c4bd3ab35"
      },
      "execution_count": 686,
      "outputs": [
        {
          "output_type": "stream",
          "name": "stdout",
          "text": [
            "The ground state energy is 205.30690346934932 eV\n"
          ]
        }
      ]
    },
    {
      "cell_type": "code",
      "source": [
        "E1 = 0 * e\n",
        "E2 = 400 * e\n",
        "psi2 = solve(E1)\n",
        "\n",
        "target = e/1000\n",
        "while abs(E1-E2) > target:\n",
        "  psi1,psi2 = psi2,solve(E2)\n",
        "  E1,E2 = E2, E2 - psi2*(E2 - E1) / (psi2 -psi1)\n",
        "\n",
        "FS = E2/e\n",
        "print(\"The first excited state energy is = \", FS, \"eV\")"
      ],
      "metadata": {
        "colab": {
          "base_uri": "https://localhost:8080/"
        },
        "id": "3JndhXp1jQnJ",
        "outputId": "6aeec985-d178-4154-d86d-256e0c6e8e38"
      },
      "execution_count": 687,
      "outputs": [
        {
          "output_type": "stream",
          "name": "stdout",
          "text": [
            "The first excited state energy is =  735.691247040332 eV\n"
          ]
        }
      ]
    },
    {
      "cell_type": "code",
      "source": [
        "E1 = 0 * e\n",
        "E2 = 1500 * e\n",
        "psi2 = solve(E1)\n",
        "\n",
        "target = e/1000\n",
        "while abs(E1-E2) > target:\n",
        "  psi1,psi2 = psi2,solve(E2)\n",
        "  E1,E2 = E2, E2 - psi2*(E2 - E1) / (psi2 -psi1)\n",
        "\n",
        "SE = E2/e\n",
        "print(\"The second excited state energy is \", SE , \"eV\")"
      ],
      "metadata": {
        "colab": {
          "base_uri": "https://localhost:8080/"
        },
        "id": "AX56bV5fjT0Z",
        "outputId": "c50d0a73-e4af-4945-daca-9bb8425d4160"
      },
      "execution_count": 688,
      "outputs": [
        {
          "output_type": "stream",
          "name": "stdout",
          "text": [
            "The second excited state energy is  1443.5694213261647 eV\n"
          ]
        }
      ]
    },
    {
      "cell_type": "code",
      "source": [
        "#converting the ground state, first and second state energy into an array and setting the precision up to 14 decimal places\n",
        "anharmonic = np.array([GS, FS, SE])\n",
        "np.set_printoptions(precision=14)\n",
        "anharmonic"
      ],
      "metadata": {
        "colab": {
          "base_uri": "https://localhost:8080/"
        },
        "id": "cDTCGnieGTwG",
        "outputId": "9e64c62c-87bf-4aa3-8f8c-59e69510e7d5"
      },
      "execution_count": 689,
      "outputs": [
        {
          "output_type": "execute_result",
          "data": {
            "text/plain": [
              "array([ 205.30690346934932,  735.691247040332  , 1443.5694213261647 ])"
            ]
          },
          "metadata": {},
          "execution_count": 689
        }
      ]
    },
    {
      "cell_type": "markdown",
      "source": [
        "Number 3 \\\n",
        "In this problem, we normalize the wavefunction. To do that, we use the equation\n",
        "\n",
        "\\begin{align}\n",
        "  \\int_{-∞}^{∞} |\\psi (x)|^2  = 1\n",
        "  \\end{align}\n",
        "\n",
        "Here, we use the Simpsons rule and taking into account that the boundaries are equal to zero, meaning $f(a) = f(b) = 0$, and that the values of $\\psi$ are already evenly spaced,  our Simpsons rule becomes\n",
        "\n",
        "\\begin{align}\n",
        "\\frac{1}{3} \\left[ 4 \\sum_{k \\ odd} f(a+kh) + 2 \\sum_{k \\ even} f(a+kh) \\right]\n",
        "  \\end{align}"
      ],
      "metadata": {
        "id": "B3Gp-xkZSIxm"
      }
    },
    {
      "cell_type": "code",
      "source": [
        "a = 1.e-11 #m\n",
        "x1 = -5 * a\n",
        "x2 = 5 * a\n",
        "N = 1000\n",
        "h = (x2 - x1) / N\n"
      ],
      "metadata": {
        "id": "eeQp6ybiKmi3"
      },
      "execution_count": 690,
      "outputs": []
    },
    {
      "cell_type": "code",
      "source": [
        "t_point = np.arange(x1, x2, h)\n",
        "def get_psi(E):\n",
        "  '''to get the values of psi given the energies'''\n",
        "\n",
        "  x_points = []\n",
        "  psi = 0.0\n",
        "  phi = 1.0\n",
        "  r = np.array([psi,phi], float)\n",
        "\n",
        "  for t in t_point:\n",
        "    x_points.append(r[0])\n",
        "    k1 = h * f(r,t,E)\n",
        "    k2 = h * f(r+ 0.5 * k1, t+0.5*h, E)\n",
        "    k3 = h * f(r+ 0.5 * k2, t+0.5*h, E)\n",
        "    k4 = h*f(r+k3,t+h,E)\n",
        "    r += (k1+2*k2+2*k3+k4) / 6\n",
        "\n",
        "  x = np.array(x_points)\n",
        "  return x\n",
        "\n"
      ],
      "metadata": {
        "id": "p1Xj33wUKzi5"
      },
      "execution_count": 691,
      "outputs": []
    },
    {
      "cell_type": "markdown",
      "source": [
        "To get the normalization constant $N$, we use the equation \n",
        "\\begin{align}\n",
        "  N = \\sqrt{\\frac{1}{\\int_{-∞}^{∞} |\\psi (x)|^2}}\n",
        "  \\end{align}\n",
        "\n",
        "In this problem, we restrain our limits of integration from $-5a$ to $5a$ "
      ],
      "metadata": {
        "id": "kUKZkdLmf7bg"
      }
    },
    {
      "cell_type": "code",
      "source": [
        "# to get the values of psi\n",
        "ground_psi = np.array(get_psi(anharmonic[0] * e))\n",
        "first_psi = np.array(get_psi(anharmonic[1] * e))\n",
        "second_psi = np.array(get_psi(anharmonic[2] * e))\n",
        "np.set_printoptions(precision=14)"
      ],
      "metadata": {
        "id": "7b0rjjVzaQFs"
      },
      "execution_count": 692,
      "outputs": []
    },
    {
      "cell_type": "code",
      "source": [
        "def simpsons(psi):\n",
        "  '''defining simpsons rule to solve the given integral'''\n",
        "  I_1, I_2 = 0,0\n",
        "  I = 0\n",
        "  for k in range(1,N,2):\n",
        "    I_1 += psi[k]\n",
        "  for k in range(2,N,2):\n",
        "    I_2 += psi[k]\n",
        "\n",
        "  I = (1/3) * (4*I_1 + 2*I_2)\n",
        "  return I"
      ],
      "metadata": {
        "id": "X3habGKGeLwL"
      },
      "execution_count": 693,
      "outputs": []
    },
    {
      "cell_type": "code",
      "source": [
        "# Getting the normalization constants\n",
        "N0 = np.sqrt(1/simpsons(ground_psi ** 2))\n",
        "N1 = np.sqrt(1/simpsons(first_psi ** 2))\n",
        "N2 = np.sqrt(1/simpsons(second_psi ** 2))\n",
        "\n",
        "#Values for normalized wavefunctions\n",
        "psi_normal = N0 * ground_psi\n",
        "psi1_normal = N1 * first_psi\n",
        "psi2_normal  = N2 * second_psi\n",
        "\n",
        "print(\"The normalization constants are \" + str(N0) + \", \"+ str(N1) + \" and \"+ str(N2))"
      ],
      "metadata": {
        "id": "ZLq9UwsiXqYx",
        "colab": {
          "base_uri": "https://localhost:8080/"
        },
        "outputId": "aa8727f5-ac46-42cb-8818-87e0ce77ff75"
      },
      "execution_count": 694,
      "outputs": [
        {
          "output_type": "stream",
          "name": "stdout",
          "text": [
            "The normalization constants are 11111.845815185508, 39521.62179691883 and 120632.37150139798\n"
          ]
        }
      ]
    },
    {
      "cell_type": "code",
      "source": [
        "#plotting the wavefunctions\n",
        "tvalue = t_point / a\n",
        "\n",
        "fig,ax = plt.subplots(figsize=(8,6))\n",
        "ax.axvline(0, color = 'lightskyblue', linestyle = '--', alpha = 0.75)\n",
        "ax.axhline(0, color = 'lightskyblue', linestyle = '--', alpha = 0.75)\n",
        "ax.plot(tvalue, psi_normal, label = 'psi 0', color = 'midnightblue', linewidth = 2)\n",
        "ax.plot(tvalue, psi1_normal,label = 'psi 1', color = 'gold', linestyle = '--',linewidth = 2.5)\n",
        "ax.plot(tvalue, psi2_normal,label = 'psi 2', color = 'orange', linestyle = 'dotted',linewidth = 2.5)\n",
        "ax.legend()\n",
        "ax.set_xlabel('x/a')\n",
        "ax.set_ylabel('psi(x)')\n",
        "plt.show()"
      ],
      "metadata": {
        "colab": {
          "base_uri": "https://localhost:8080/",
          "height": 388
        },
        "id": "vrT9gtR5jVFj",
        "outputId": "43d29a0e-2425-4bc9-fcfd-47759b1317a3"
      },
      "execution_count": 695,
      "outputs": [
        {
          "output_type": "display_data",
          "data": {
            "text/plain": [
              "<Figure size 576x432 with 1 Axes>"
            ],
            "image/png": "[encoded data removed]"
          },
          "metadata": {
            "needs_background": "light"
          }
        }
      ]
    }
  ]
}
