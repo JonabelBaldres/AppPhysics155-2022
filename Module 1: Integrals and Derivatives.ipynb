{
  "cells": [
    {
      "cell_type": "markdown",
      "metadata": {
        "id": "G0BcK0H_G1Iu"
      },
      "source": [
        "# **AP155 Lab Assignment** \n",
        "## Module 1: Integrals and Derivatives\n",
        "\n",
        "_Instructions_: Answer each problem as completely as you can. Discuss **all** your answers as clearly and concisely as possible. \n",
        "\n",
        "_Scoring Criteria_: 50% - *correctness of code*; 50% - *discussion of the code and results*. Maximum score is **100 points** (Problems 1 to 5 are worth 20, 20, 10, 30, and 20 points, respectively).\n",
        "\n",
        "_Due Date_: **5PM of November 3 (Thu)**\n",
        "\n"
      ]
    },
    {
      "cell_type": "markdown",
      "metadata": {
        "id": "PeHZ9kP8JaVR"
      },
      "source": [
        "### Student Information \n",
        "\n",
        "_Full Name (Last Name, First Name)_: Jonabel Eleanor B. Baldres \\\n",
        "_Student No._: 2020-07279 \\\n",
        "_Section_: THU-HX-3"
      ]
    },
    {
      "cell_type": "markdown",
      "metadata": {
        "id": "Hc183co-J4eI"
      },
      "source": [
        "### Submission Information\n",
        "\n",
        "_Date and Time Submitted (most recent upload)_: 27 November 2022 \n",
        "\n",
        "**HONOR PLEDGE** I affirm that I have upheld the highest principles of honesty and integrity in my academic work and that this lab assignment is my own work.\n",
        "\n",
        "**Sign here with your full name:** sgd. Jonabel Eleanor Baldres"
      ]
    },
    {
      "cell_type": "markdown",
      "metadata": {
        "id": "X1UGsRpW-eQs"
      },
      "source": [
        "### Grading Information (c/o Lab Instructor)\n",
        "\n",
        "TOTAL SCORE: **XX**/100\n",
        "\n",
        "Score breakdown:\n",
        "* Problem 1 - XX/20\n",
        "* Problem 2 - XX/20\n",
        "* Problem 3 - XX/10\n",
        "* Problem 4 - XX/30\n",
        "* Problem 5 - XX/20\n",
        "\n",
        "_Date and Time Scored (MM/DD/YYYY HH:MM AM/PM):_ "
      ]
    },
    {
      "cell_type": "code",
      "execution_count": 885,
      "metadata": {
        "id": "hMqWOsbIMoUh"
      },
      "outputs": [],
      "source": [
        "# importing all necessary functions in the problems\n",
        "import numpy as np\n",
        "import matplotlib.pyplot as plt\n",
        "import pandas as pd\n",
        "from math import sin, sqrt, tanh, cosh, inf\n"
      ]
    },
    {
      "cell_type": "markdown",
      "metadata": {
        "id": "LxWuqiCFMsEh"
      },
      "source": [
        "### PROBLEM 1 (20 pts.) \n",
        "**Integration using the trapezoidal rule and Simpson's rule**\n",
        "\n",
        "Calculate the integral of the function $ 2x^4 + 3x^2 + 4x + 5$ from $x=0$ to $x=5$.\n",
        "\n",
        "1. Do the numerical calculation using the trapezoidal rule with 10, 100, and 1,000 slices. Describe each step of the calculation clearly and concisely. *(8 pts.; 4 pts. for the code & 4 pts. for the discussion text)*\n",
        "\n",
        "2. What are the percentage errors of your answers in (1)? *(2 pts.)*\n",
        "\n",
        "3. Repeat the calculation using Simpson's rule with 10, 100, and 1,000 slices. Describe each step of the calculation clearly and concisely. *(8 pts.;  4 pts. for the code & 4 pts. for the discussion text)*\n",
        "\n",
        "4. What are the percentage errors of your answers in (3)? How do they compare with the results from (1) for the same number of slices? *(2 pts.)*"
      ]
    },
    {
      "cell_type": "code",
      "execution_count": 886,
      "metadata": {
        "id": "8pAti1JPGzsy"
      },
      "outputs": [],
      "source": [
        "def f(x):\n",
        "  ''' defining the function provided that needs to be integrated'''\n",
        "  return 2*x**4 + 3*x**2 + 4*x + 5"
      ]
    },
    {
      "cell_type": "code",
      "execution_count": 887,
      "metadata": {
        "id": "ySEdfabVG7kZ"
      },
      "outputs": [],
      "source": [
        "def int_f(x):\n",
        "  ''' defining the integral of the function '''\n",
        "  return 2*x**5/5 + x**3 + 2*x**2 + 5*x\n"
      ]
    },
    {
      "cell_type": "code",
      "execution_count": 888,
      "metadata": {
        "colab": {
          "base_uri": "https://localhost:8080/"
        },
        "id": "8LcBINg9HTIc",
        "outputId": "754b3e91-b23e-4e1f-cb45-c16cc7d81c97"
      },
      "outputs": [
        {
          "name": "stdout",
          "output_type": "stream",
          "text": [
            "The actual value of the integral is 1450.0\n"
          ]
        }
      ],
      "source": [
        "print(\"The actual value of the integral is \" + str(int_f(5))) \n",
        "#since the value of the function is 0 when x = 0, the author decided to just find the integral when x = 5\n",
        "# this will be used in obtaining the percentage errors in the next steps"
      ]
    },
    {
      "cell_type": "markdown",
      "metadata": {
        "id": "MiJzqAqiHy4h"
      },
      "source": [
        "Using the **Trapezoidal Rule** \\\n",
        "\n",
        "Here, we created a function trapezoidal to calculate the integral of the given function. We create an argument *N* which is the variable for the number of steps needed in the numerical calculation using the Trapezoidal Rule. Note that the Trapezoidal rule is given by the equation\n",
        "\\begin{align}\n",
        "        I(a,b) = h \\left[ \\frac{1}{2} f(a) + \\frac{1}{2} f(b) + \\sum_{k=1}^{N-1} f(a+kh) \\right]\n",
        "    \\end{align}\n",
        "where h is the width of the slices, a is the lower limit of integration, b is the upper limit of integration, k is the position of slice, and $f(n)$ is the function integrated. "
      ]
    },
    {
      "cell_type": "code",
      "execution_count": 889,
      "metadata": {
        "id": "f6NfSN4yHx2y"
      },
      "outputs": [],
      "source": [
        "a = 0 # lower limit of integration\n",
        "b = 5 # upper limit of integration\n",
        "\n",
        "def trapezoidal(N):\n",
        "  ''' this function provides the integral using the trapezoidal method'''\n",
        "  h = (b-a)/N # width of the slices \n",
        "  s = 0.5*f(a) + 0.5*f(b) \n",
        "\n",
        "  for k in range(1,N): \n",
        "    s+= f(a+k*h) # this adds a value to the variable s and the new value becomes the value of s\n",
        "  return h*s # returning h*s means the functions shows the product of s with h that results to the integral of the given function given N"
      ]
    },
    {
      "cell_type": "code",
      "execution_count": 890,
      "metadata": {
        "colab": {
          "base_uri": "https://localhost:8080/"
        },
        "id": "jmZ-InuaIRpv",
        "outputId": "a78d9a38-d1b0-4cfa-bbd7-c3c4cd2e40a8"
      },
      "outputs": [
        {
          "name": "stdout",
          "output_type": "stream",
          "text": [
            "When N=10,the integral is 1471.4375\n",
            "When N=100,the integral is 1450.2145812500003\n",
            "When N=1000,the integral is 1450.0021458331234\n"
          ]
        }
      ],
      "source": [
        "for i in [10,100,1000]: # used for loop to yield the integral of the function when N= 10,100, and 1000\n",
        "  print(\"When N=\" + str(i) +  \",the integral is \" + str(trapezoidal(i)))"
      ]
    },
    {
      "cell_type": "code",
      "execution_count": 891,
      "metadata": {
        "id": "etfbe2kbJp1Y"
      },
      "outputs": [],
      "source": [
        "def trapezoidal_error(N):\n",
        "  '''calculates the numerical error produced by the trapezoidal rule method'''\n",
        "  return (trapezoidal(N) - int_f(5)) / int_f(5) * 100"
      ]
    },
    {
      "cell_type": "code",
      "execution_count": 892,
      "metadata": {
        "colab": {
          "base_uri": "https://localhost:8080/"
        },
        "id": "95QtATXGLJEK",
        "outputId": "ad5bf87e-2d88-4f35-8152-69870fa42696"
      },
      "outputs": [
        {
          "name": "stdout",
          "output_type": "stream",
          "text": [
            "The error when the integral has 10 steps is 1.478448275862069\n",
            "The error when the integral has 100 steps is 0.014798706896569988\n",
            "The error when the integral has 1000 steps is 0.00014798849127240326\n"
          ]
        }
      ],
      "source": [
        "for k in [10,100,1000]: # shows the error when the integral has N number of steps\n",
        "  print(\"The error when the integral has \" + str(k) + \" steps is \" + str(trapezoidal_error(k)) )"
      ]
    },
    {
      "cell_type": "markdown",
      "metadata": {
        "id": "aqCML6ISMO4-"
      },
      "source": [
        "Using the **Simpsons Rule** \\\n",
        "In this problem, we define the function simpsons with argument N for the number of slices to produce the integral of a given function. We note that the Simpson's rule is given by the equation:\n",
        "\\begin{align}\n",
        "        \\frac{1}{3} h \\left[ f(a) + f(b) + 4 \\sum_{k \\ odd} f(a+kh) + 2 \\sum_{k \\ even} f(a+kh) \\right]\n",
        "    \\end{align}\n",
        "where h is the width of the slices, a and b is the lower and upper limit of integration respectively, k is the position of the slice, and *f(n)* is the function"
      ]
    },
    {
      "cell_type": "code",
      "execution_count": 893,
      "metadata": {
        "id": "KXgRYXb4MSRJ"
      },
      "outputs": [],
      "source": [
        "#using the same lower and upper integration bounds a and b\n",
        "\n",
        "def simpsons(N):\n",
        "  ''' the function is used to create the code for the Simpson's Rule'''\n",
        "  h = (b-a) / N # width of the slice\n",
        "  c = h/3 \n",
        "  s = f(a) + f(b) # first two equation that needs to be added together\n",
        "\n",
        "  for k in range(2,N,2): # when the position of the slice is even, we add the equation below to the initial value of s and the sum becomes the new s\n",
        "    s += 2 * f(a+k*h)\n",
        "\n",
        "  for k in range(1,N,2): # when the position of the slice is odd, we add the equation below to the initial value of s and the sum becomes the new s\n",
        "    s += 4 * f(a+k*h) \n",
        "\n",
        "  return c*s #calling the function returns the product of c and s which is the value of the integral using the Simpson's rule\n"
      ]
    },
    {
      "cell_type": "code",
      "execution_count": 894,
      "metadata": {
        "colab": {
          "base_uri": "https://localhost:8080/"
        },
        "id": "4ljQrffAMy0o",
        "outputId": "a5f7a40d-a777-4179-a501-21a9b706561a"
      },
      "outputs": [
        {
          "name": "stdout",
          "output_type": "stream",
          "text": [
            "When N=10,the integral is 1450.0833333333333\n",
            "When N=100,the integral is 1450.0000083333334\n",
            "When N=1000,the integral is 1450.0000000008336\n"
          ]
        }
      ],
      "source": [
        "for k in [10,100,1000]: # used for loop to yield the integral of the function when N= 10,100, and 1000\n",
        "  print(\"When N=\" + str(k) +  \",the integral is \" + str(simpsons(k)))"
      ]
    },
    {
      "cell_type": "code",
      "execution_count": 895,
      "metadata": {
        "id": "i_PVN2VzNMsE"
      },
      "outputs": [],
      "source": [
        "def simpsons_error(N): # returns the value of the percentage error when Simpsons rule is used\n",
        "  return (simpsons(N) - int_f(5)) / int_f(5) * 100"
      ]
    },
    {
      "cell_type": "code",
      "execution_count": 896,
      "metadata": {
        "colab": {
          "base_uri": "https://localhost:8080/"
        },
        "id": "3_XtuqZmNSZa",
        "outputId": "203ab8be-7bfc-481a-9cdc-34f87de51986"
      },
      "outputs": [
        {
          "name": "stdout",
          "output_type": "stream",
          "text": [
            "The error when the integral has 10 steps is 0.005747126436776382\n",
            "The error when the integral has 100 steps is 5.747126500676226e-07\n",
            "The error when the integral has 1000 steps is 5.748633752930267e-11\n"
          ]
        }
      ],
      "source": [
        "for l in [10,100,1000]:\n",
        "  print(\"The error when the integral has \" + str(l) + \" steps is \" + str(simpsons_error(l)) )"
      ]
    },
    {
      "cell_type": "markdown",
      "metadata": {
        "id": "-XJDuH3HOeSl"
      },
      "source": [
        "In summary, the percentage errors when Simpsons Rule was used were smaller compared to Trapezoidal rule. This means that Simpsons Rule produces more accurate integral value than Trapezoidal rule. "
      ]
    },
    {
      "cell_type": "markdown",
      "metadata": {
        "id": "kBX9EyMLOnXj"
      },
      "source": [
        "### PROBLEM 2 (20 pts.)\n",
        "\n",
        "**Integration using the adaptive trapezoidal rule method and Romberg integration**\n",
        "\n",
        "Calculate the integral $ I = \\int_0^1 \\sin^2 \\sqrt{100x} \\mbox{d}x $.\n",
        "\n",
        "1. Do the numerical calculation using the adaptive trapezoidal rule method to an approximate accuracy of $\\epsilon = 10^{-6}$. Start with one single integration slice and work up from there to two, four, eight, and so forth. Save and print out the number of slices, its estimate of the integral, and its estimate of the error on the integral, for each value of the number of slices $N$, until the target accuracy is reached. *(8 pts.; 4 pts. for the code & 4 pts. for the discussion text)*\n",
        "\n",
        "2. Repeat the calculation using the Romberg integration technique. Save and print out the same variables as in (1). *(8 pts.; 4 pts. for the code & 4 pts. for the discussion text)*\n",
        "\n",
        "3. Compare the results from both calculations by creating a plot of error estimates vs. $N$. Annotate your chart completely (include proper axis labels and legend). Describe how the trends for the two techniques compare. *(4 pts.; 2 pts. for the chart & 2 pts. for the discussion text)*"
      ]
    },
    {
      "cell_type": "code",
      "execution_count": 897,
      "metadata": {
        "id": "GABjwlXCR97i"
      },
      "outputs": [],
      "source": [
        "a = 0 # lower integration bound\n",
        "b =1 #upper integration bound\n",
        "data = [] # to store the values "
      ]
    },
    {
      "cell_type": "markdown",
      "metadata": {
        "id": "aGyqZz2yEFFd"
      },
      "source": [
        "Using the **Adaptive Trapezoidal Method** \\\n",
        "Here, we take note of the following equation\n",
        "\n",
        "\\begin{align}\n",
        "    I_i = \\frac{1}{2} I_{i - 1} + h_i \\sum_{k \\ odd} f(a+kh_i)\n",
        "  \\end{align}\n",
        "\n",
        "which is the adaptive trapezoidal method where $I_i$ is integral of the ith step of the calculation, $h_i$ is the width of the slice, and $k$ is the position of the slice. "
      ]
    },
    {
      "cell_type": "code",
      "execution_count": 898,
      "metadata": {
        "id": "TeKwVpFzPX3h"
      },
      "outputs": [],
      "source": [
        "def g(x):\n",
        "  '''returns the function'''\n",
        "  return (sin(10*sqrt(x)) ** 2)\n",
        "\n",
        "def integrate(function, N):\n",
        "  h = (b-a)/N # width of the slice\n",
        "  s = 0 #starting point\n",
        "  for i in range(1,N,2): #when i is odd, we add the equation below to the initial value of s and the sum becomes the new s\n",
        "    s += function(a+i*h) \n",
        "\n",
        "  return s * h #calling the function returns the product of s and h\n",
        "\n",
        "def adaptive_trapezoidal(function):\n",
        "  N= 1 #starting number of slice\n",
        "  initial = 0 # initial value of integral\n",
        "  h = (b-a) / N\n",
        "  final = h * (function(a) + function(b)) \n",
        "  error= abs(final - initial)/3 #calculates the error \n",
        "\n",
        "  while error > 1.e-6: #while error > 1.e-6, the program continues printing the integral until the desired value of error is achieved\n",
        "    initial = final\n",
        "    final = (0.5 * initial) + integrate(function, N)\n",
        "    error = abs(final - initial)/3\n",
        "    N*= 2 # doubles the number of steps \n",
        "    data.append([N/2, error, final]) #adds the value of final, error, and N/2 to the list to store the value\n",
        "\n",
        "  return data\n",
        "\n",
        "data = adaptive_trapezoidal(g)"
      ]
    },
    {
      "cell_type": "markdown",
      "metadata": {
        "id": "tji3Wv4bPzpm"
      },
      "source": [
        "The table below shows the number of slices (4096) it takes to approach the desired accuracy and the value of its integral.  From the program, it stated it took 1 second to fully show the output. "
      ]
    },
    {
      "cell_type": "code",
      "execution_count": 899,
      "metadata": {
        "colab": {
          "base_uri": "https://localhost:8080/",
          "height": 452
        },
        "id": "ic8kCLIeMkm0",
        "outputId": "3b91fbdf-1359-48af-aae4-f996e3e6e77c"
      },
      "outputs": [
        {
          "data": {
            "text/html": [
              "\n",
              "  <div id=\"df-780cbc9a-8275-431a-b5ff-05141beea1eb\">\n",
              "    <div class=\"colab-df-container\">\n",
              "      <div>\n",
              "<style scoped>\n",
              "    .dataframe tbody tr th:only-of-type {\n",
              "        vertical-align: middle;\n",
              "    }\n",
              "\n",
              "    .dataframe tbody tr th {\n",
              "        vertical-align: top;\n",
              "    }\n",
              "\n",
              "    .dataframe thead th {\n",
              "        text-align: right;\n",
              "    }\n",
              "</style>\n",
              "<table border=\"1\" class=\"dataframe\">\n",
              "  <thead>\n",
              "    <tr style=\"text-align: right;\">\n",
              "      <th></th>\n",
              "      <th>Number of slices</th>\n",
              "      <th>Error</th>\n",
              "      <th>Value of Integral</th>\n",
              "    </tr>\n",
              "  </thead>\n",
              "  <tbody>\n",
              "    <tr>\n",
              "      <th>1</th>\n",
              "      <td>1.0</td>\n",
              "      <td>4.932649e-02</td>\n",
              "      <td>0.147979</td>\n",
              "    </tr>\n",
              "    <tr>\n",
              "      <th>2</th>\n",
              "      <td>2.0</td>\n",
              "      <td>5.908414e-02</td>\n",
              "      <td>0.325232</td>\n",
              "    </tr>\n",
              "    <tr>\n",
              "      <th>3</th>\n",
              "      <td>4.0</td>\n",
              "      <td>6.235031e-02</td>\n",
              "      <td>0.512283</td>\n",
              "    </tr>\n",
              "    <tr>\n",
              "      <th>4</th>\n",
              "      <td>8.0</td>\n",
              "      <td>3.642847e-02</td>\n",
              "      <td>0.402997</td>\n",
              "    </tr>\n",
              "    <tr>\n",
              "      <th>5</th>\n",
              "      <td>16.0</td>\n",
              "      <td>9.035307e-03</td>\n",
              "      <td>0.430103</td>\n",
              "    </tr>\n",
              "    <tr>\n",
              "      <th>6</th>\n",
              "      <td>32.0</td>\n",
              "      <td>6.103765e-03</td>\n",
              "      <td>0.448415</td>\n",
              "    </tr>\n",
              "    <tr>\n",
              "      <th>7</th>\n",
              "      <td>64.0</td>\n",
              "      <td>1.832755e-03</td>\n",
              "      <td>0.453913</td>\n",
              "    </tr>\n",
              "    <tr>\n",
              "      <th>8</th>\n",
              "      <td>128.0</td>\n",
              "      <td>4.785244e-04</td>\n",
              "      <td>0.455349</td>\n",
              "    </tr>\n",
              "    <tr>\n",
              "      <th>9</th>\n",
              "      <td>256.0</td>\n",
              "      <td>1.209207e-04</td>\n",
              "      <td>0.455711</td>\n",
              "    </tr>\n",
              "    <tr>\n",
              "      <th>10</th>\n",
              "      <td>512.0</td>\n",
              "      <td>3.031107e-05</td>\n",
              "      <td>0.455802</td>\n",
              "    </tr>\n",
              "    <tr>\n",
              "      <th>11</th>\n",
              "      <td>1024.0</td>\n",
              "      <td>7.582827e-06</td>\n",
              "      <td>0.455825</td>\n",
              "    </tr>\n",
              "    <tr>\n",
              "      <th>12</th>\n",
              "      <td>2048.0</td>\n",
              "      <td>1.896023e-06</td>\n",
              "      <td>0.455831</td>\n",
              "    </tr>\n",
              "    <tr>\n",
              "      <th>13</th>\n",
              "      <td>4096.0</td>\n",
              "      <td>4.740255e-07</td>\n",
              "      <td>0.455832</td>\n",
              "    </tr>\n",
              "  </tbody>\n",
              "</table>\n",
              "</div>\n",
              "      <button class=\"colab-df-convert\" onclick=\"convertToInteractive('df-780cbc9a-8275-431a-b5ff-05141beea1eb')\"\n",
              "              title=\"Convert this dataframe to an interactive table.\"\n",
              "              style=\"display:none;\">\n",
              "        \n",
              "  <svg xmlns=\"http://www.w3.org/2000/svg\" height=\"24px\"viewBox=\"0 0 24 24\"\n",
              "       width=\"24px\">\n",
              "    <path d=\"M0 0h24v24H0V0z\" fill=\"none\"/>\n",
              "    <path d=\"M18.56 5.44l.94 2.06.94-2.06 2.06-.94-2.06-.94-.94-2.06-.94 2.06-2.06.94zm-11 1L8.5 8.5l.94-2.06 2.06-.94-2.06-.94L8.5 2.5l-.94 2.06-2.06.94zm10 10l.94 2.06.94-2.06 2.06-.94-2.06-.94-.94-2.06-.94 2.06-2.06.94z\"/><path d=\"M17.41 7.96l-1.37-1.37c-.4-.4-.92-.59-1.43-.59-.52 0-1.04.2-1.43.59L10.3 9.45l-7.72 7.72c-.78.78-.78 2.05 0 2.83L4 21.41c.39.39.9.59 1.41.59.51 0 1.02-.2 1.41-.59l7.78-7.78 2.81-2.81c.8-.78.8-2.07 0-2.86zM5.41 20L4 18.59l7.72-7.72 1.47 1.35L5.41 20z\"/>\n",
              "  </svg>\n",
              "      </button>\n",
              "      \n",
              "  <style>\n",
              "    .colab-df-container {\n",
              "      display:flex;\n",
              "      flex-wrap:wrap;\n",
              "      gap: 12px;\n",
              "    }\n",
              "\n",
              "    .colab-df-convert {\n",
              "      background-color: #E8F0FE;\n",
              "      border: none;\n",
              "      border-radius: 50%;\n",
              "      cursor: pointer;\n",
              "      display: none;\n",
              "      fill: #1967D2;\n",
              "      height: 32px;\n",
              "      padding: 0 0 0 0;\n",
              "      width: 32px;\n",
              "    }\n",
              "\n",
              "    .colab-df-convert:hover {\n",
              "      background-color: #E2EBFA;\n",
              "      box-shadow: 0px 1px 2px rgba(60, 64, 67, 0.3), 0px 1px 3px 1px rgba(60, 64, 67, 0.15);\n",
              "      fill: #174EA6;\n",
              "    }\n",
              "\n",
              "    [theme=dark] .colab-df-convert {\n",
              "      background-color: #3B4455;\n",
              "      fill: #D2E3FC;\n",
              "    }\n",
              "\n",
              "    [theme=dark] .colab-df-convert:hover {\n",
              "      background-color: #434B5C;\n",
              "      box-shadow: 0px 1px 3px 1px rgba(0, 0, 0, 0.15);\n",
              "      filter: drop-shadow(0px 1px 2px rgba(0, 0, 0, 0.3));\n",
              "      fill: #FFFFFF;\n",
              "    }\n",
              "  </style>\n",
              "\n",
              "      <script>\n",
              "        const buttonEl =\n",
              "          document.querySelector('#df-780cbc9a-8275-431a-b5ff-05141beea1eb button.colab-df-convert');\n",
              "        buttonEl.style.display =\n",
              "          google.colab.kernel.accessAllowed ? 'block' : 'none';\n",
              "\n",
              "        async function convertToInteractive(key) {\n",
              "          const element = document.querySelector('#df-780cbc9a-8275-431a-b5ff-05141beea1eb');\n",
              "          const dataTable =\n",
              "            await google.colab.kernel.invokeFunction('convertToInteractive',\n",
              "                                                     [key], {});\n",
              "          if (!dataTable) return;\n",
              "\n",
              "          const docLinkHtml = 'Like what you see? Visit the ' +\n",
              "            '<a target=\"_blank\" href=https://colab.research.google.com/notebooks/data_table.ipynb>data table notebook</a>'\n",
              "            + ' to learn more about interactive tables.';\n",
              "          element.innerHTML = '';\n",
              "          dataTable['output_type'] = 'display_data';\n",
              "          await google.colab.output.renderOutput(dataTable, element);\n",
              "          const docLink = document.createElement('div');\n",
              "          docLink.innerHTML = docLinkHtml;\n",
              "          element.appendChild(docLink);\n",
              "        }\n",
              "      </script>\n",
              "    </div>\n",
              "  </div>\n",
              "  "
            ],
            "text/plain": [
              "    Number of slices         Error  Value of Integral\n",
              "1                1.0  4.932649e-02           0.147979\n",
              "2                2.0  5.908414e-02           0.325232\n",
              "3                4.0  6.235031e-02           0.512283\n",
              "4                8.0  3.642847e-02           0.402997\n",
              "5               16.0  9.035307e-03           0.430103\n",
              "6               32.0  6.103765e-03           0.448415\n",
              "7               64.0  1.832755e-03           0.453913\n",
              "8              128.0  4.785244e-04           0.455349\n",
              "9              256.0  1.209207e-04           0.455711\n",
              "10             512.0  3.031107e-05           0.455802\n",
              "11            1024.0  7.582827e-06           0.455825\n",
              "12            2048.0  1.896023e-06           0.455831\n",
              "13            4096.0  4.740255e-07           0.455832"
            ]
          },
          "execution_count": 899,
          "metadata": {},
          "output_type": "execute_result"
        }
      ],
      "source": [
        "df = pd.DataFrame(data, columns =['Number of slices', 'Error', 'Value of Integral'])\n",
        "df.index += 1\n",
        "df"
      ]
    },
    {
      "cell_type": "markdown",
      "metadata": {
        "id": "wwW8IA5RQtVR"
      },
      "source": [
        "Using the **Romberg Integration** \\\n",
        "The Romberg integration is given by the formula\n",
        "\n",
        "\\begin{align}\n",
        "   I = R_{i,m+1} + \\text{error}\n",
        "  \\end{align}\n",
        "where\n",
        "\\begin{align}\n",
        "   R_{i,m+1} = R_{i,m} + \\frac{1}{4^m -1 } (R_{i,m} - R_{i-1,m})\n",
        "  \\end{align}\n",
        "and\n",
        "\\begin{align}\n",
        "  \\text{error} = \\frac{1}{4^m -1} (R_{i,m} - R_{i-1,m})\n",
        "  \\end{align}"
      ]
    },
    {
      "cell_type": "code",
      "execution_count": 900,
      "metadata": {
        "id": "aeEo3-7gRNtn"
      },
      "outputs": [],
      "source": [
        "#adding important constants\n",
        "N = 1 # initial number of slice\n",
        "a = 0 #lower integration limit\n",
        "b = 1 # upper intergration limit\n",
        "h = (b-a)/N #width of slice\n",
        "error = 10**(-6) #approximate accuracy\n",
        "err = [inf] #list for creating the errors until desired approximate error is reached\n",
        "slices = [] #list for storing the number of slices required to reach the desired integral given error"
      ]
    },
    {
      "cell_type": "code",
      "execution_count": 901,
      "metadata": {
        "id": "L6alcgbkR10_"
      },
      "outputs": [],
      "source": [
        "#defining all the needed functions\n",
        "def TrapI(N):\n",
        "    '''trapezoidal rule that will be used for romberg integration'''\n",
        "    h = (b-a)/N\n",
        "    s = 0.5*g(a) + 0.5*g(b)\n",
        "    \n",
        "    for k in range(1,N):\n",
        "        s += g(a+k*h)\n",
        "    return(h*s)\n",
        "\n",
        "I1 = 0\n",
        "I2 = TrapI(N)\n",
        "\n",
        "while abs(1/3*(I2-I1)) > error: #continues the assigning of new values of I1 and I2 until it reaches the accuracy needed\n",
        "    h_i = (b-a)/N\n",
        "    I1 = I2\n",
        "    I2 = 1/2*I1\n",
        "    for k in range(1,N,2):\n",
        "        I2 += h_i*g(a+k*h_i)\n",
        "    N = 2*N\n",
        "\n",
        "def Romberg():\n",
        "    '''Romberg integration with no argument needed'''\n",
        "    size = 7\n",
        "    R = np.zeros((size,size))\n",
        "\n",
        "    for i in range(0,size):\n",
        "        N = 2**i\n",
        "        slices.append(N)\n",
        "        R[i,0] = TrapI(N) # using the trapezoidal function above to calculate R[i,0]\n",
        "        for k in range(0,i): \n",
        "            m = k + 2\n",
        "            R[i,k+1] = 1.0/(4**(m-1)-1)*(4**(m-1)*R[i,k] - R[i-1,k]) #calculating the next trapezoidal estimate\n",
        "        if (i > 0):\n",
        "          if (np.inf >= error):\n",
        "            err.append(abs(R[i,k+1] - R[i,k]))\n",
        "\n",
        "    return R, err, slices #return the value R, err, and slices\n",
        "\n",
        "R, err, slices = Romberg() # assigns the value of Romberg into R, err, and slices"
      ]
    },
    {
      "cell_type": "code",
      "execution_count": 902,
      "metadata": {
        "id": "VDROFXGHSgCB"
      },
      "outputs": [],
      "source": [
        "values = [] #list for the R[i,i] values which is the final integration per step\n",
        "for i in range(7):\n",
        "  values.append(R[i,i])"
      ]
    },
    {
      "cell_type": "code",
      "execution_count": 903,
      "metadata": {
        "colab": {
          "base_uri": "https://localhost:8080/",
          "height": 266
        },
        "id": "7yRcsXUCSfk-",
        "outputId": "c3b737fc-abc8-4ad4-d00b-637a26ed5267"
      },
      "outputs": [
        {
          "data": {
            "text/html": [
              "\n",
              "  <div id=\"df-872ef42a-de44-43ab-9dd6-0dbadc6e76b4\">\n",
              "    <div class=\"colab-df-container\">\n",
              "      <div>\n",
              "<style scoped>\n",
              "    .dataframe tbody tr th:only-of-type {\n",
              "        vertical-align: middle;\n",
              "    }\n",
              "\n",
              "    .dataframe tbody tr th {\n",
              "        vertical-align: top;\n",
              "    }\n",
              "\n",
              "    .dataframe thead th {\n",
              "        text-align: right;\n",
              "    }\n",
              "</style>\n",
              "<table border=\"1\" class=\"dataframe\">\n",
              "  <thead>\n",
              "    <tr style=\"text-align: right;\">\n",
              "      <th></th>\n",
              "      <th>Number of slices</th>\n",
              "      <th>Error</th>\n",
              "      <th>Value of the integral</th>\n",
              "    </tr>\n",
              "  </thead>\n",
              "  <tbody>\n",
              "    <tr>\n",
              "      <th>1</th>\n",
              "      <td>1</td>\n",
              "      <td>inf</td>\n",
              "      <td>0.147979</td>\n",
              "    </tr>\n",
              "    <tr>\n",
              "      <th>2</th>\n",
              "      <td>2</td>\n",
              "      <td>5.908414e-02</td>\n",
              "      <td>0.384316</td>\n",
              "    </tr>\n",
              "    <tr>\n",
              "      <th>3</th>\n",
              "      <td>4</td>\n",
              "      <td>1.268781e-02</td>\n",
              "      <td>0.587321</td>\n",
              "    </tr>\n",
              "    <tr>\n",
              "      <th>4</th>\n",
              "      <td>8</td>\n",
              "      <td>3.724174e-03</td>\n",
              "      <td>0.348974</td>\n",
              "    </tr>\n",
              "    <tr>\n",
              "      <th>5</th>\n",
              "      <td>16</td>\n",
              "      <td>3.782418e-04</td>\n",
              "      <td>0.445804</td>\n",
              "    </tr>\n",
              "    <tr>\n",
              "      <th>6</th>\n",
              "      <td>32</td>\n",
              "      <td>9.739968e-06</td>\n",
              "      <td>0.455777</td>\n",
              "    </tr>\n",
              "    <tr>\n",
              "      <th>7</th>\n",
              "      <td>64</td>\n",
              "      <td>1.342828e-08</td>\n",
              "      <td>0.455832</td>\n",
              "    </tr>\n",
              "  </tbody>\n",
              "</table>\n",
              "</div>\n",
              "      <button class=\"colab-df-convert\" onclick=\"convertToInteractive('df-872ef42a-de44-43ab-9dd6-0dbadc6e76b4')\"\n",
              "              title=\"Convert this dataframe to an interactive table.\"\n",
              "              style=\"display:none;\">\n",
              "        \n",
              "  <svg xmlns=\"http://www.w3.org/2000/svg\" height=\"24px\"viewBox=\"0 0 24 24\"\n",
              "       width=\"24px\">\n",
              "    <path d=\"M0 0h24v24H0V0z\" fill=\"none\"/>\n",
              "    <path d=\"M18.56 5.44l.94 2.06.94-2.06 2.06-.94-2.06-.94-.94-2.06-.94 2.06-2.06.94zm-11 1L8.5 8.5l.94-2.06 2.06-.94-2.06-.94L8.5 2.5l-.94 2.06-2.06.94zm10 10l.94 2.06.94-2.06 2.06-.94-2.06-.94-.94-2.06-.94 2.06-2.06.94z\"/><path d=\"M17.41 7.96l-1.37-1.37c-.4-.4-.92-.59-1.43-.59-.52 0-1.04.2-1.43.59L10.3 9.45l-7.72 7.72c-.78.78-.78 2.05 0 2.83L4 21.41c.39.39.9.59 1.41.59.51 0 1.02-.2 1.41-.59l7.78-7.78 2.81-2.81c.8-.78.8-2.07 0-2.86zM5.41 20L4 18.59l7.72-7.72 1.47 1.35L5.41 20z\"/>\n",
              "  </svg>\n",
              "      </button>\n",
              "      \n",
              "  <style>\n",
              "    .colab-df-container {\n",
              "      display:flex;\n",
              "      flex-wrap:wrap;\n",
              "      gap: 12px;\n",
              "    }\n",
              "\n",
              "    .colab-df-convert {\n",
              "      background-color: #E8F0FE;\n",
              "      border: none;\n",
              "      border-radius: 50%;\n",
              "      cursor: pointer;\n",
              "      display: none;\n",
              "      fill: #1967D2;\n",
              "      height: 32px;\n",
              "      padding: 0 0 0 0;\n",
              "      width: 32px;\n",
              "    }\n",
              "\n",
              "    .colab-df-convert:hover {\n",
              "      background-color: #E2EBFA;\n",
              "      box-shadow: 0px 1px 2px rgba(60, 64, 67, 0.3), 0px 1px 3px 1px rgba(60, 64, 67, 0.15);\n",
              "      fill: #174EA6;\n",
              "    }\n",
              "\n",
              "    [theme=dark] .colab-df-convert {\n",
              "      background-color: #3B4455;\n",
              "      fill: #D2E3FC;\n",
              "    }\n",
              "\n",
              "    [theme=dark] .colab-df-convert:hover {\n",
              "      background-color: #434B5C;\n",
              "      box-shadow: 0px 1px 3px 1px rgba(0, 0, 0, 0.15);\n",
              "      filter: drop-shadow(0px 1px 2px rgba(0, 0, 0, 0.3));\n",
              "      fill: #FFFFFF;\n",
              "    }\n",
              "  </style>\n",
              "\n",
              "      <script>\n",
              "        const buttonEl =\n",
              "          document.querySelector('#df-872ef42a-de44-43ab-9dd6-0dbadc6e76b4 button.colab-df-convert');\n",
              "        buttonEl.style.display =\n",
              "          google.colab.kernel.accessAllowed ? 'block' : 'none';\n",
              "\n",
              "        async function convertToInteractive(key) {\n",
              "          const element = document.querySelector('#df-872ef42a-de44-43ab-9dd6-0dbadc6e76b4');\n",
              "          const dataTable =\n",
              "            await google.colab.kernel.invokeFunction('convertToInteractive',\n",
              "                                                     [key], {});\n",
              "          if (!dataTable) return;\n",
              "\n",
              "          const docLinkHtml = 'Like what you see? Visit the ' +\n",
              "            '<a target=\"_blank\" href=https://colab.research.google.com/notebooks/data_table.ipynb>data table notebook</a>'\n",
              "            + ' to learn more about interactive tables.';\n",
              "          element.innerHTML = '';\n",
              "          dataTable['output_type'] = 'display_data';\n",
              "          await google.colab.output.renderOutput(dataTable, element);\n",
              "          const docLink = document.createElement('div');\n",
              "          docLink.innerHTML = docLinkHtml;\n",
              "          element.appendChild(docLink);\n",
              "        }\n",
              "      </script>\n",
              "    </div>\n",
              "  </div>\n",
              "  "
            ],
            "text/plain": [
              "   Number of slices         Error  Value of the integral\n",
              "1                 1           inf               0.147979\n",
              "2                 2  5.908414e-02               0.384316\n",
              "3                 4  1.268781e-02               0.587321\n",
              "4                 8  3.724174e-03               0.348974\n",
              "5                16  3.782418e-04               0.445804\n",
              "6                32  9.739968e-06               0.455777\n",
              "7                64  1.342828e-08               0.455832"
            ]
          },
          "execution_count": 903,
          "metadata": {},
          "output_type": "execute_result"
        }
      ],
      "source": [
        "df = pd.DataFrame(\n",
        "    {'Number of slices': slices,\n",
        "     'Error': err,\n",
        "     'Value of the integral': values\n",
        "    })\n",
        "df.index += 1\n",
        "df #displays the integral given the number of slices and its error"
      ]
    },
    {
      "cell_type": "code",
      "execution_count": 904,
      "metadata": {
        "colab": {
          "base_uri": "https://localhost:8080/",
          "height": 302
        },
        "id": "W19eCo-pTw9o",
        "outputId": "0f89f3b9-0f34-47a3-a856-93ae5044aa95"
      },
      "outputs": [
        {
          "data": {
            "text/plain": [
              "<matplotlib.lines.Line2D at 0x7f7b1dd55810>"
            ]
          },
          "execution_count": 904,
          "metadata": {},
          "output_type": "execute_result"
        },
        {
          "data": {
            "image/png": "[encoded data removed]",
            "text/plain": [
              "<Figure size 432x288 with 1 Axes>"
            ]
          },
          "metadata": {
            "needs_background": "light"
          },
          "output_type": "display_data"
        }
      ],
      "source": [
        "#plotting the values \n",
        "x = []\n",
        "y = []\n",
        "for i in range(0,len(data)):\n",
        "     x.append(data[i][0])\n",
        "\n",
        "for i in range(0,len(data)):\n",
        "     y.append(data[i][1])\n",
        "\n",
        "fig, ax = plt.subplots()\n",
        "adtrap = ax.plot(x,y,'salmon', marker='o', label='Adaptive Trapezoidal Rule (ATR)')\n",
        "romberg = ax.plot(slices, err, 'teal', marker='o',label='Romberg Integration (RI)')\n",
        "ax.legend()\n",
        "ax.set_yscale('log')\n",
        "ax.set_xscale('log')\n",
        "ax.set_xlabel(\"no. of slices N\")\n",
        "ax.set_ylabel(\"error estimate |err|\")\n",
        "ax.axhline([10**(-6)], color = 'tan', linestyle = '--')"
      ]
    },
    {
      "cell_type": "markdown",
      "metadata": {
        "id": "-_cyxW2Bpo4v"
      },
      "source": [
        "Looking at the graph below, we can say that ATR uses more number of steps to achieve the required accuracy than RI. Making RI more efficient when greater accuracy is required since it takes less time for the computer to compute."
      ]
    },
    {
      "cell_type": "markdown",
      "metadata": {
        "id": "m2a6sg90R-NX"
      },
      "source": [
        "### PROBLEM 3 (10 pts.)\n",
        "\n",
        "**Integration using Gaussian quadrature**\n",
        "\n",
        "Calculate the integral from Problem 1 using the Gaussian quadrature method: $ 2x^4 + 3x^2 + 4x + 5$ from $x=0$ to $x=5$.\n",
        "\n",
        "1. Define the function $\\tt gaussxw$ from Appendix E of the Newman text (and run the cell). *(2 pts.)*\n",
        "\n",
        "2. Calculate the integral using the $\\tt gaussxw$ function in (1) and number of slices $N = 3$. Describe each step in the calculation clearly and concisely. *(8 pts.; 4 pts. for the code & 4 pts. for the discussion text)*"
      ]
    },
    {
      "cell_type": "code",
      "execution_count": 905,
      "metadata": {
        "id": "YO_PDJ4VIVs5"
      },
      "outputs": [],
      "source": [
        "#copying the gaussxw function straight from the book \n",
        "from numpy import ones,copy,cos,tan,pi,linspace\n",
        "\n",
        "def gaussxw(N):\n",
        "\n",
        "    # Initial approximation to roots of the Legendre polynomial\n",
        "    a = linspace(3,4*N-1,N)/(4*N+2)\n",
        "    x = cos(pi*a+1/(8*N*N*tan(a)))\n",
        "\n",
        "    # Find roots using Newton's method\n",
        "    epsilon = 1e-15\n",
        "    delta = 1.0\n",
        "    while delta>epsilon:\n",
        "        p0 = ones(N,float)\n",
        "        p1 = copy(x)\n",
        "        for k in range(1,N):\n",
        "            p0,p1 = p1,((2*k+1)*x*p1-k*p0)/(k+1)\n",
        "        dp = (N+1)*(p0-x*p1)/(1-x*x)\n",
        "        dx = p1/dp\n",
        "        x -= dx\n",
        "        delta = max(abs(dx))\n",
        "\n",
        "    # Calculate the weights\n",
        "    w = 2*(N+1)*(N+1)/(N*N*(1-x*x)*dp*dp)\n",
        "\n",
        "    return x,w\n",
        "\n",
        "\n",
        "def gaussxwab(N,a,b):\n",
        "  x,w = gaussxw(N)\n",
        "  return 0.5*(b-a)*x+0.5*(b+a),0.5*(b-a)*w\n",
        "  "
      ]
    },
    {
      "cell_type": "code",
      "execution_count": 906,
      "metadata": {
        "colab": {
          "base_uri": "https://localhost:8080/"
        },
        "id": "OSD55s0TXJz_",
        "outputId": "d83929b6-bbdb-45f1-9e26-3cb5e5b69c0a"
      },
      "outputs": [
        {
          "name": "stdout",
          "output_type": "stream",
          "text": [
            "Using the gaussxw function, the integral is 1450.000000000002\n"
          ]
        }
      ],
      "source": [
        "N = 3 # number of slices\n",
        "a = 0 #lower limit integration\n",
        "b = 5 #upper limit integration\n",
        "\n",
        "#calculating the sample points and weights \n",
        "x, w = gaussxw(N) #assigning gaussxw(N) values as x and w\n",
        "xp = 0.5 * (b-a) * x + 0.5 * (b+a) \n",
        "wp = 0.5 * (b-a) * w \n",
        "\n",
        "# Performing the integration\n",
        "s = 0.0\n",
        "for k in range(N):\n",
        "  s += wp[k] * f(xp[k]) #using f(x) from the first problem\n",
        "\n",
        "print(\"Using the gaussxw function, the integral is\" , s)"
      ]
    },
    {
      "cell_type": "markdown",
      "metadata": {
        "id": "HceOjNu-VfN9"
      },
      "source": [
        "### PROBLEM 4 (30 pts.)\n",
        "\n",
        "**Physics Application: Anharmonic Oscillator**\n",
        "\n",
        "_Refer to Exercise 5.10 of the Newman text._ Consider an anharmonic oscillator with potential $V(x)$ symmetric about $x = 0$. Let us set our anharmonic oscillator going with amplitude $a$. That is, at $t = 0$ we release it from rest at position $x = a$ and it swings back towards the origin. Then at $t = 0$ we have $dx/dt = 0$ and the equation for its total energy becomes $E = V(a)$, i.e., the total energy of the particle is given in terms of the amplitude.\n",
        "\n",
        "When the particle reaches the origin for the first time, it has gone through one quarter of a period of the oscillator. The period $T$ is given by: $$ T = \\sqrt{8m} \\int_0^a \\frac{dx}{\\sqrt{V(a)-V(x)}}. $$\n",
        "\n",
        "1. Suppose the potential is $V(x) = x^4$ and the mass of the particle is $m = 1$. Write a Python function that calculates the period of the oscillator for given amplitude a using Gaussian quadrature with $N = 20$ points. Describe each step clearly and concisely. *(16 pts.; 8 pts. for the code & 8 pts. for the discussion text)*\n",
        "\n",
        "2. Use your function to make a graph of the period for amplitudes ranging from $a = 0$ to $a = 2$. Describe the behavior you find and explain these results clearly and concisely. *(14 pts.; 7 pts. for the plot & 7 pts. for the discussion text)*"
      ]
    },
    {
      "cell_type": "code",
      "execution_count": 907,
      "metadata": {
        "id": "yUc_yB7nXHdv"
      },
      "outputs": [],
      "source": [
        "def gquadrature(function,a, b): # calculates position and weights and does the mapping \n",
        "\n",
        "    xp, wp = gaussxwab(N,a,b)\n",
        "\n",
        "    s = 0.0\n",
        "\n",
        "    for k in range(N):\n",
        "        s += wp[k]*function(xp[k])\n",
        "\n",
        "    return s\n"
      ]
    },
    {
      "cell_type": "code",
      "execution_count": 908,
      "metadata": {
        "colab": {
          "base_uri": "https://localhost:8080/",
          "height": 404
        },
        "id": "p28JF-OQYock",
        "outputId": "8e60de67-705f-4fc8-cb59-618814db1362"
      },
      "outputs": [
        {
          "data": {
            "image/png": "[encoded data removed]",
            "text/plain": [
              "<Figure size 576x432 with 1 Axes>"
            ]
          },
          "metadata": {
            "needs_background": "light"
          },
          "output_type": "display_data"
        }
      ],
      "source": [
        "#4\n",
        "m = 1 #mass of the particle\n",
        "N = 20 #number of points\n",
        "a = 0 # initial position\n",
        "amplitude = linspace(0.1,2,N) # start, stop, number of samples to generate\n",
        "\n",
        "def k(x): #The function for period T V(a) equal to the amplitude raised to 4\n",
        "  return sqrt(8*m) / sqrt(amp**4 - x**4)\n",
        "\n",
        "S = [] #list to store the period of the oscillator given amplitude\n",
        "for amp in amplitude:\n",
        "  S.append(gquadrature(k,a,amp)) #adds the period of the oscillator to the list S\n",
        "\n",
        "#plotting the graph \n",
        "plt.figure(figsize=(8,6))\n",
        "plt.title(\"Period of an Anharmonic Oscillator\")\n",
        "plt.xlabel(\"Amplitude (m)\")\n",
        "plt.ylabel(\"Period (s)\")\n",
        "plt.plot(amplitude,S, 'salmon', linewidth = '4', alpha = 0.75)\n",
        "plt.grid(color = 'teal', linestyle = '--', linewidth = 0.5, alpha = 0.75)\n",
        "plt.show()\n",
        "\n"
      ]
    },
    {
      "cell_type": "markdown",
      "metadata": {
        "id": "oHm-mgeivMgN"
      },
      "source": [
        "From the graph, we can see that as the amplitude increases from 0 to 2, the period exponentially decreases. "
      ]
    },
    {
      "cell_type": "markdown",
      "metadata": {
        "id": "BY5x-mZsYoqG"
      },
      "source": [
        "### PROBLEM 5 (20 pts.)\n",
        "\n",
        "**Differentiation using central difference**\n",
        "\n",
        "1. Calculate the derivative of the function $1 + \\frac{1}{2} \\tanh 2x$ in the range $-2 \\le x \\le 2$ using central difference. Describe each step of the calculation clearly and concisely. *(10 pts.; 5 pts. for the code & 5 pts. for the discussion text)*\n",
        "\n",
        "2. Calculate an analytic formula for the derivative and make a graph with your numerical result and the analytic answer on the same plot. Plot the exact answer as lines and the numerical one as dots. Describe how the two results compare. *(10 pts.; 5 pts. for the code & 5 pts. for the discussion text)*"
      ]
    },
    {
      "cell_type": "markdown",
      "metadata": {
        "id": "CVOcpoMB44U_"
      },
      "source": [
        "The **Central Difference** is given by the equation \n",
        "\\begin{align}\n",
        "  \\frac{df}{dx} \\simeq \\frac{f(x+h/2)- f(x-h/2)}{h}\n",
        "  \\end{align}"
      ]
    },
    {
      "cell_type": "code",
      "execution_count": 909,
      "metadata": {
        "id": "ZWXWJyYdLS5G"
      },
      "outputs": [],
      "source": [
        "\n",
        "h = 0.000000000001 # approximation that approaches 0\n",
        "def func(x):\n",
        "  '''the function given in the problem'''\n",
        "  return 1 + 0.5 * tanh(2*x) \n",
        "\n",
        "def CentralDif(f,x,h):\n",
        "  '''the function for calculating the derivative using the central difference'''\n",
        "  derivative = (f(x+h) - f(x-h))/ (2 * h) #function for the central difference as shown above\n",
        "  return derivative\n",
        "  \n",
        "calculated_answers = [] #stores the calculated derivative using central difference in the range -2 to 2 with step 1\n",
        "for i in range(-2,3,1): #appends the derivative of the function in the list \n",
        "  calculated_answers.append(CentralDif(func,i,h))"
      ]
    },
    {
      "cell_type": "code",
      "execution_count": 910,
      "metadata": {
        "id": "UVTVOiu6Xsmv"
      },
      "outputs": [],
      "source": [
        "def deriv_m(x): \n",
        "  ''' produces the actual value of the derivative'''\n",
        "  return ((1/ cosh(2*x)) **  2 )\n",
        "\n",
        "exact_answers = [] # stores the exact derivative in the range -2 to 2 with step 1\n",
        "for i in range(-2,3,1):\n",
        "  exact_answers.append(deriv_m(i))"
      ]
    },
    {
      "cell_type": "code",
      "execution_count": 911,
      "metadata": {
        "id": "N5XZpLAe7kJz"
      },
      "outputs": [],
      "source": [
        "errors = [] # stores the percent error between the actual and calculated derivatives\n",
        "for i in range(0,5):\n",
        "  error = abs((exact_answers[i] - calculated_answers[i]) / exact_answers[i]) * 100\n",
        "  errors.append(error) "
      ]
    },
    {
      "cell_type": "code",
      "execution_count": 912,
      "metadata": {
        "colab": {
          "base_uri": "https://localhost:8080/",
          "height": 204
        },
        "id": "Af21FhGF7K-c",
        "outputId": "7238d705-0248-417d-a87f-f1cfad6bae71"
      },
      "outputs": [
        {
          "data": {
            "text/html": [
              "\n",
              "  <div id=\"df-723185c6-6638-4e93-9d03-29551e2a5452\">\n",
              "    <div class=\"colab-df-container\">\n",
              "      <div>\n",
              "<style scoped>\n",
              "    .dataframe tbody tr th:only-of-type {\n",
              "        vertical-align: middle;\n",
              "    }\n",
              "\n",
              "    .dataframe tbody tr th {\n",
              "        vertical-align: top;\n",
              "    }\n",
              "\n",
              "    .dataframe thead th {\n",
              "        text-align: right;\n",
              "    }\n",
              "</style>\n",
              "<table border=\"1\" class=\"dataframe\">\n",
              "  <thead>\n",
              "    <tr style=\"text-align: right;\">\n",
              "      <th></th>\n",
              "      <th>Actual value</th>\n",
              "      <th>Calculated value</th>\n",
              "      <th>Error</th>\n",
              "    </tr>\n",
              "  </thead>\n",
              "  <tbody>\n",
              "    <tr>\n",
              "      <th>1</th>\n",
              "      <td>0.001341</td>\n",
              "      <td>0.001332</td>\n",
              "      <td>0.647530</td>\n",
              "    </tr>\n",
              "    <tr>\n",
              "      <th>2</th>\n",
              "      <td>0.070651</td>\n",
              "      <td>0.070610</td>\n",
              "      <td>0.057523</td>\n",
              "    </tr>\n",
              "    <tr>\n",
              "      <th>3</th>\n",
              "      <td>1.000000</td>\n",
              "      <td>1.000033</td>\n",
              "      <td>0.003339</td>\n",
              "    </tr>\n",
              "    <tr>\n",
              "      <th>4</th>\n",
              "      <td>0.070651</td>\n",
              "      <td>0.070610</td>\n",
              "      <td>0.057523</td>\n",
              "    </tr>\n",
              "    <tr>\n",
              "      <th>5</th>\n",
              "      <td>0.001341</td>\n",
              "      <td>0.001332</td>\n",
              "      <td>0.647530</td>\n",
              "    </tr>\n",
              "  </tbody>\n",
              "</table>\n",
              "</div>\n",
              "      <button class=\"colab-df-convert\" onclick=\"convertToInteractive('df-723185c6-6638-4e93-9d03-29551e2a5452')\"\n",
              "              title=\"Convert this dataframe to an interactive table.\"\n",
              "              style=\"display:none;\">\n",
              "        \n",
              "  <svg xmlns=\"http://www.w3.org/2000/svg\" height=\"24px\"viewBox=\"0 0 24 24\"\n",
              "       width=\"24px\">\n",
              "    <path d=\"M0 0h24v24H0V0z\" fill=\"none\"/>\n",
              "    <path d=\"M18.56 5.44l.94 2.06.94-2.06 2.06-.94-2.06-.94-.94-2.06-.94 2.06-2.06.94zm-11 1L8.5 8.5l.94-2.06 2.06-.94-2.06-.94L8.5 2.5l-.94 2.06-2.06.94zm10 10l.94 2.06.94-2.06 2.06-.94-2.06-.94-.94-2.06-.94 2.06-2.06.94z\"/><path d=\"M17.41 7.96l-1.37-1.37c-.4-.4-.92-.59-1.43-.59-.52 0-1.04.2-1.43.59L10.3 9.45l-7.72 7.72c-.78.78-.78 2.05 0 2.83L4 21.41c.39.39.9.59 1.41.59.51 0 1.02-.2 1.41-.59l7.78-7.78 2.81-2.81c.8-.78.8-2.07 0-2.86zM5.41 20L4 18.59l7.72-7.72 1.47 1.35L5.41 20z\"/>\n",
              "  </svg>\n",
              "      </button>\n",
              "      \n",
              "  <style>\n",
              "    .colab-df-container {\n",
              "      display:flex;\n",
              "      flex-wrap:wrap;\n",
              "      gap: 12px;\n",
              "    }\n",
              "\n",
              "    .colab-df-convert {\n",
              "      background-color: #E8F0FE;\n",
              "      border: none;\n",
              "      border-radius: 50%;\n",
              "      cursor: pointer;\n",
              "      display: none;\n",
              "      fill: #1967D2;\n",
              "      height: 32px;\n",
              "      padding: 0 0 0 0;\n",
              "      width: 32px;\n",
              "    }\n",
              "\n",
              "    .colab-df-convert:hover {\n",
              "      background-color: #E2EBFA;\n",
              "      box-shadow: 0px 1px 2px rgba(60, 64, 67, 0.3), 0px 1px 3px 1px rgba(60, 64, 67, 0.15);\n",
              "      fill: #174EA6;\n",
              "    }\n",
              "\n",
              "    [theme=dark] .colab-df-convert {\n",
              "      background-color: #3B4455;\n",
              "      fill: #D2E3FC;\n",
              "    }\n",
              "\n",
              "    [theme=dark] .colab-df-convert:hover {\n",
              "      background-color: #434B5C;\n",
              "      box-shadow: 0px 1px 3px 1px rgba(0, 0, 0, 0.15);\n",
              "      filter: drop-shadow(0px 1px 2px rgba(0, 0, 0, 0.3));\n",
              "      fill: #FFFFFF;\n",
              "    }\n",
              "  </style>\n",
              "\n",
              "      <script>\n",
              "        const buttonEl =\n",
              "          document.querySelector('#df-723185c6-6638-4e93-9d03-29551e2a5452 button.colab-df-convert');\n",
              "        buttonEl.style.display =\n",
              "          google.colab.kernel.accessAllowed ? 'block' : 'none';\n",
              "\n",
              "        async function convertToInteractive(key) {\n",
              "          const element = document.querySelector('#df-723185c6-6638-4e93-9d03-29551e2a5452');\n",
              "          const dataTable =\n",
              "            await google.colab.kernel.invokeFunction('convertToInteractive',\n",
              "                                                     [key], {});\n",
              "          if (!dataTable) return;\n",
              "\n",
              "          const docLinkHtml = 'Like what you see? Visit the ' +\n",
              "            '<a target=\"_blank\" href=https://colab.research.google.com/notebooks/data_table.ipynb>data table notebook</a>'\n",
              "            + ' to learn more about interactive tables.';\n",
              "          element.innerHTML = '';\n",
              "          dataTable['output_type'] = 'display_data';\n",
              "          await google.colab.output.renderOutput(dataTable, element);\n",
              "          const docLink = document.createElement('div');\n",
              "          docLink.innerHTML = docLinkHtml;\n",
              "          element.appendChild(docLink);\n",
              "        }\n",
              "      </script>\n",
              "    </div>\n",
              "  </div>\n",
              "  "
            ],
            "text/plain": [
              "   Actual value  Calculated value     Error\n",
              "1      0.001341          0.001332  0.647530\n",
              "2      0.070651          0.070610  0.057523\n",
              "3      1.000000          1.000033  0.003339\n",
              "4      0.070651          0.070610  0.057523\n",
              "5      0.001341          0.001332  0.647530"
            ]
          },
          "execution_count": 912,
          "metadata": {},
          "output_type": "execute_result"
        }
      ],
      "source": [
        "df = pd.DataFrame(\n",
        "    {'Actual value': exact_answers,\n",
        "     'Calculated value' : calculated_answers,\n",
        "     'Error': errors\n",
        "    })\n",
        "df.index += 1\n",
        "df #displays the integral given the number of slices and its error"
      ]
    },
    {
      "cell_type": "code",
      "execution_count": 913,
      "metadata": {
        "colab": {
          "base_uri": "https://localhost:8080/",
          "height": 296
        },
        "id": "0DhjKPbzXxha",
        "outputId": "8f44ee91-d47d-4365-909b-658f34260463"
      },
      "outputs": [
        {
          "data": {
            "text/plain": [
              "Text(0, 0.5, 'derivatives')"
            ]
          },
          "execution_count": 913,
          "metadata": {},
          "output_type": "execute_result"
        },
        {
          "data": {
            "image/png": "[encoded data removed]",
            "text/plain": [
              "<Figure size 432x288 with 1 Axes>"
            ]
          },
          "metadata": {
            "needs_background": "light"
          },
          "output_type": "display_data"
        }
      ],
      "source": [
        "x = [-2, -1, 0, 1, 2]\n",
        "\n",
        "fig, ax = plt.subplots()\n",
        "ax.plot(x,exact_answers, color = 'salmon', marker = 'o' ,linewidth = 9, alpha = 0.5, label = 'Actual value')\n",
        "ax.plot(x,calculated_answers, '--', color = 'slategray', marker ='v', alpha = 1, label = 'Calculated value')\n",
        "ax.legend()\n",
        "ax.set_title(\"Actual vs Calculated Value of Derivatives using Central Difference\")\n",
        "ax.set_xlabel('range')\n",
        "ax.set_ylabel('derivatives')"
      ]
    },
    {
      "cell_type": "markdown",
      "metadata": {
        "id": "8Cm9cUHD_6VX"
      },
      "source": [
        "Comparing the two results from the graph, we can see that the two are almost the same as seen also from their percent error. "
      ]
    }
  ],
  "metadata": {
    "colab": {
      "provenance": []
    },
    "kernelspec": {
      "display_name": "Python 3.10.4 64-bit",
      "language": "python",
      "name": "python3"
    },
    "language_info": {
      "name": "python",
      "version": "3.10.4"
    },
    "vscode": {
      "interpreter": {
        "hash": "aee8b7b246df8f9039afb4144a1f6fd8d2ca17a180786b69acc140d282b71a49"
      }
    }
  },
  "nbformat": 4,
  "nbformat_minor": 0
}
